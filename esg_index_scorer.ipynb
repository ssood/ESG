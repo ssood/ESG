{
  "nbformat": 4,
  "nbformat_minor": 0,
  "metadata": {
    "colab": {
      "provenance": [],
      "include_colab_link": true
    },
    "kernelspec": {
      "name": "python3",
      "display_name": "Python 3"
    }
  },
  "cells": [
    {
      "cell_type": "markdown",
      "metadata": {
        "id": "view-in-github",
        "colab_type": "text"
      },
      "source": [
        "<a href=\"https://colab.research.google.com/github/ssood/ESG/blob/main/esg_index_scorer.ipynb\" target=\"_parent\"><img src=\"https://colab.research.google.com/assets/colab-badge.svg\" alt=\"Open In Colab\"/></a>"
      ]
    },
    {
      "cell_type": "markdown",
      "metadata": {
        "id": "Xv7AFtwqWIYM"
      },
      "source": [
        "```\n",
        "Author: Yash Roongta\n",
        "The code in this file is for the blog written here: https://tradewithpython.com/equity-index-score-esg-with-python\n",
        "\n",
        "Please read the blog for detailed usage instructions, a couple of high level points.\n",
        "1. You will have to provide the Yahoo Finance Tickers to the code.\n",
        "2. Fetching ESG data and Stock Data will take time due to random delay function embedded.\n",
        "3. The output will be printed in your console.\n",
        "    \n",
        "```"
      ]
    },
    {
      "cell_type": "code",
      "metadata": {
        "id": "kSjDLBccWLEP"
      },
      "source": [
        "import pandas as pd\n",
        "import yfinance as yf\n",
        "import time\n",
        "from random import randint\n",
        "from google.colab import files\n",
        "import io"
      ],
      "execution_count": null,
      "outputs": []
    },
    {
      "cell_type": "code",
      "metadata": {
        "id": "GNYMSfT4eGzA"
      },
      "source": [
        "!pip install yfinance"
      ],
      "execution_count": null,
      "outputs": []
    },
    {
      "cell_type": "code",
      "metadata": {
        "colab": {
          "resources": {
            "http://localhost:8080/nbextensions/google.colab/files.js": {
              "data": "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",
              "ok": true,
              "headers": [
                [
                  "content-type",
                  "application/javascript"
                ]
              ],
              "status": 200,
              "status_text": ""
            }
          },
          "base_uri": "https://localhost:8080/",
          "height": 72
        },
        "id": "5i4ruRmIX6Ko",
        "outputId": "3c84f4a7-503a-4d91-ec68-975c4880e36e"
      },
      "source": [
        "'''Please upload the .csv for tickers\n",
        "FTSE 100: https://docs.google.com/spreadsheets/d/10SD0xGSdOqNZuINJocNoE0Gd8JClXmas5cPj9tmaw28/edit?usp=sharing\n",
        "NIFTY 50: https://docs.google.com/spreadsheets/d/1Gm1v9-qOJ5ZXhgSEHLYsBPnhd3-zcaGnlmI-eeu8Gdw/edit?usp=sharing\n",
        "'''\n",
        "\n",
        "data_to_load = files.upload()"
      ],
      "execution_count": null,
      "outputs": [
        {
          "output_type": "display_data",
          "data": {
            "text/html": [
              "\n",
              "     <input type=\"file\" id=\"files-f2e2a64c-b0b5-44c0-92a5-0659a98387d8\" name=\"files[]\" multiple disabled\n",
              "        style=\"border:none\" />\n",
              "     <output id=\"result-f2e2a64c-b0b5-44c0-92a5-0659a98387d8\">\n",
              "      Upload widget is only available when the cell has been executed in the\n",
              "      current browser session. Please rerun this cell to enable.\n",
              "      </output>\n",
              "      <script src=\"/nbextensions/google.colab/files.js\"></script> "
            ],
            "text/plain": [
              "<IPython.core.display.HTML object>"
            ]
          },
          "metadata": {
            "tags": []
          }
        },
        {
          "output_type": "stream",
          "text": [
            "Saving ftse100_tickers - Sheet1.csv to ftse100_tickers - Sheet1.csv\n"
          ],
          "name": "stdout"
        }
      ]
    },
    {
      "cell_type": "code",
      "metadata": {
        "id": "1JFw9xmmWVhS"
      },
      "source": [
        "df = pd.read_csv(io.BytesIO(data_to_load['ftse100_tickers - Sheet1.csv'])) #give the full path of file uploaded\n",
        "index_tickers = df['Symbol'].tolist() #assigning all tickers to a list\n",
        "#print(index_tickers)\n",
        "\n",
        "esg_data = pd.DataFrame() #empty df for attaching all ticker's data response"
      ],
      "execution_count": null,
      "outputs": []
    },
    {
      "cell_type": "code",
      "metadata": {
        "colab": {
          "base_uri": "https://localhost:8080/"
        },
        "id": "V63eBVqfWfzG",
        "outputId": "71a28ad8-20d0-4951-ab52-57e82823d869"
      },
      "source": [
        "for ticker in index_tickers:\n",
        "     print(ticker) #just FYI to know your code is running\n",
        "     ticker_name = yf.Ticker(ticker)\n",
        "     try:\n",
        "          if ticker_name.sustainability is not None: #if no response from Yahoo received, it will pass to next ticker\n",
        "               ticker_df = ticker_name.sustainability.T #response dataframe\n",
        "               ticker_df['symbol'] = ticker #adding new column 'symbol' in response df\n",
        "               esg_data = esg_data.append(ticker_df) #attaching the response df to esg_data\n",
        "               time.sleep(randint(2,8)) #delaying the fetch of data for 2-8 seconds\n",
        "     except (IndexError, ValueError) as e: #in case yfinance API misbehaves\n",
        "          print(f'{ticker} did not run') #FYI\n",
        "          pass"
      ],
      "execution_count": null,
      "outputs": [
        {
          "output_type": "stream",
          "text": [
            "AAL.L\n",
            "ABF.L\n",
            "ADM.L\n",
            "AHT.L\n",
            "ANTO.L\n",
            "AUTO.L\n",
            "AV.L\n",
            "AVST.L\n",
            "AVV.L\n",
            "AZN.L\n",
            "BA.L\n",
            "BARC.L\n",
            "BATS.L\n",
            "BDEV.L\n",
            "BHP.L\n",
            "BKG.L\n",
            "BLND.L\n",
            "BME.L\n",
            "BNZL.L\n",
            "BP.L\n",
            "BRBY.L\n",
            "BT-A.L\n",
            "CCH.L\n",
            "CPG.L\n",
            "CRDA.L\n",
            "CRH.L\n",
            "DCC.L\n",
            "DGE.L\n",
            "ENT.L\n",
            "EVR.L\n",
            "EXPN.L\n",
            "FERG.L\n",
            "FLTR.L\n",
            "FRES.L\n",
            "GLEN.L\n",
            "GSK.L\n",
            "HIK.L\n",
            "HL.L\n",
            "HLMA.L\n",
            "HSBA.L\n",
            "IAG.L\n",
            "ICP.L\n",
            "IHG.L\n",
            "III.L\n",
            "IMB.L\n",
            "INF.L\n",
            "ITRK.L\n",
            "JD.L\n",
            "JET.L\n",
            "JMAT.L\n",
            "KGF.L\n",
            "LAND.L\n",
            "LGEN.L\n",
            "LLOY.L\n",
            "LSEG.L\n",
            "MNDI.L\n",
            "MNG.L\n",
            "MRO.L\n",
            "MRW.L\n",
            "NG.L\n",
            "NWG.L\n",
            "NXT.L\n",
            "OCDO.L\n",
            "PHNX.L\n",
            "PNN.L\n",
            "POLY.L\n",
            "PRU.L\n",
            "PSH.L\n",
            "PSN.L\n",
            "PSON.L\n",
            "RB.L\n",
            "RDSA.L\n",
            "RDSB.L\n",
            "REL.L\n",
            "RIO.L\n",
            "RMV.L\n",
            "RR.L\n",
            "RSA.L\n",
            "RTO.L\n",
            "SBRY.L\n",
            "SDR.L\n",
            "SGE.L\n",
            "SGRO.L\n",
            "SKG.L\n",
            "SLA.L\n",
            "SMDS.L\n",
            "SMIN.L\n",
            "SMT.L\n",
            "SMT.L did not run\n",
            "SN.L\n",
            "SPX.L\n",
            "SSE.L\n",
            "STAN.L\n",
            "STJ.L\n",
            "SVT.L\n",
            "TSCO.L\n",
            "TW.L\n",
            "ULVR.L\n",
            "UU.L\n",
            "VOD.L\n",
            "WPP.L\n",
            "WTB.L\n"
          ],
          "name": "stdout"
        }
      ]
    },
    {
      "cell_type": "code",
      "metadata": {
        "id": "8wUcL6pCY-ug"
      },
      "source": [
        "esg_tickers = esg_data['symbol']\n",
        "no_esg_data = list(set(index_tickers) - set(esg_tickers))\n",
        "#set function removes all duplicates in a list and the above gives us the\n",
        "#difference between our original ticker list and our esg_data ticker list\n",
        "print(no_esg_data)"
      ],
      "execution_count": null,
      "outputs": []
    },
    {
      "cell_type": "code",
      "metadata": {
        "colab": {
          "base_uri": "https://localhost:8080/",
          "height": 204
        },
        "id": "Nfg6jtZEZU_l",
        "outputId": "963caf04-0cd7-4cc8-ccc5-cb073b428b3b"
      },
      "source": [
        "new_esg_df = esg_data[['symbol', 'socialScore',\n",
        "               'governanceScore', 'totalEsg', 'environmentScore']]\n",
        "#the above basically takes the columns mentioned above and assigns into new df.\n",
        "new_esg_df.head(5) #let's see what it looks like"
      ],
      "execution_count": null,
      "outputs": [
        {
          "output_type": "execute_result",
          "data": {
            "text/html": [
              "<div>\n",
              "<style scoped>\n",
              "    .dataframe tbody tr th:only-of-type {\n",
              "        vertical-align: middle;\n",
              "    }\n",
              "\n",
              "    .dataframe tbody tr th {\n",
              "        vertical-align: top;\n",
              "    }\n",
              "\n",
              "    .dataframe thead th {\n",
              "        text-align: right;\n",
              "    }\n",
              "</style>\n",
              "<table border=\"1\" class=\"dataframe\">\n",
              "  <thead>\n",
              "    <tr style=\"text-align: right;\">\n",
              "      <th>2021-2</th>\n",
              "      <th>symbol</th>\n",
              "      <th>socialScore</th>\n",
              "      <th>governanceScore</th>\n",
              "      <th>totalEsg</th>\n",
              "      <th>environmentScore</th>\n",
              "    </tr>\n",
              "  </thead>\n",
              "  <tbody>\n",
              "    <tr>\n",
              "      <th>Value</th>\n",
              "      <td>AAL.L</td>\n",
              "      <td>9.52</td>\n",
              "      <td>3.41</td>\n",
              "      <td>23.63</td>\n",
              "      <td>10.71</td>\n",
              "    </tr>\n",
              "    <tr>\n",
              "      <th>Value</th>\n",
              "      <td>ABF.L</td>\n",
              "      <td>15.4</td>\n",
              "      <td>4.94</td>\n",
              "      <td>30.12</td>\n",
              "      <td>9.78</td>\n",
              "    </tr>\n",
              "    <tr>\n",
              "      <th>Value</th>\n",
              "      <td>ADM.L</td>\n",
              "      <td>6.94</td>\n",
              "      <td>11.4</td>\n",
              "      <td>20.06</td>\n",
              "      <td>1.71</td>\n",
              "    </tr>\n",
              "    <tr>\n",
              "      <th>Value</th>\n",
              "      <td>AHT.L</td>\n",
              "      <td>5.57</td>\n",
              "      <td>6.83</td>\n",
              "      <td>19.41</td>\n",
              "      <td>7.01</td>\n",
              "    </tr>\n",
              "    <tr>\n",
              "      <th>Value</th>\n",
              "      <td>ANTO.L</td>\n",
              "      <td>9.22</td>\n",
              "      <td>5.61</td>\n",
              "      <td>28.99</td>\n",
              "      <td>14.16</td>\n",
              "    </tr>\n",
              "  </tbody>\n",
              "</table>\n",
              "</div>"
            ],
            "text/plain": [
              "2021-2  symbol socialScore governanceScore totalEsg environmentScore\n",
              "Value    AAL.L        9.52            3.41    23.63            10.71\n",
              "Value    ABF.L        15.4            4.94    30.12             9.78\n",
              "Value    ADM.L        6.94            11.4    20.06             1.71\n",
              "Value    AHT.L        5.57            6.83    19.41             7.01\n",
              "Value   ANTO.L        9.22            5.61    28.99            14.16"
            ]
          },
          "metadata": {
            "tags": []
          },
          "execution_count": 13
        }
      ]
    },
    {
      "cell_type": "code",
      "metadata": {
        "colab": {
          "base_uri": "https://localhost:8080/"
        },
        "id": "arXwp1wXZYde",
        "outputId": "9ef9404f-5101-41b1-b432-96cce8d3ade5"
      },
      "source": [
        "main_df = pd.DataFrame() #creating empty df to store data\n",
        "\n",
        "for ticker in index_tickers:\n",
        "     ticker_name = yf.Ticker(ticker)\n",
        "     try:\n",
        "          ticker_info = ticker_name.info\n",
        "          ticker_df = pd.DataFrame.from_dict(ticker_info.items()).T\n",
        "          #the above line will parse the dict response into a DataFrame\n",
        "          ticker_df.columns = ticker_df.iloc[0]\n",
        "          #above line will rename all columns to first row of dataframe\n",
        "          #as all the headers come up in the 1st row, next line will drop the 1st line\n",
        "          ticker_df = ticker_df.drop(ticker_df.index[0])\n",
        "          main_df = main_df.append(ticker_df)\n",
        "          time.sleep(randint(2,8))\n",
        "          print(f'{ticker} + Complete')\n",
        "     except (IndexError, ValueError) as e:\n",
        "          print(f'{ticker} + Data Not Found')"
      ],
      "execution_count": null,
      "outputs": [
        {
          "output_type": "stream",
          "text": [
            "AAL.L + Complete\n",
            "ABF.L + Complete\n",
            "ADM.L + Complete\n",
            "AHT.L + Complete\n",
            "ANTO.L + Complete\n",
            "AUTO.L + Complete\n",
            "AV.L + Complete\n",
            "AVST.L + Complete\n",
            "AVV.L + Complete\n",
            "AZN.L + Complete\n",
            "BA.L + Complete\n",
            "BARC.L + Complete\n",
            "BATS.L + Complete\n",
            "BDEV.L + Complete\n",
            "BHP.L + Complete\n",
            "BKG.L + Complete\n",
            "BLND.L + Complete\n",
            "BME.L + Complete\n",
            "BNZL.L + Complete\n",
            "BP.L + Complete\n",
            "BRBY.L + Complete\n",
            "BT-A.L + Complete\n",
            "CCH.L + Complete\n",
            "CPG.L + Complete\n",
            "CRDA.L + Complete\n",
            "CRH.L + Complete\n",
            "DCC.L + Complete\n",
            "DGE.L + Complete\n",
            "ENT.L + Complete\n",
            "EVR.L + Complete\n",
            "EXPN.L + Complete\n",
            "FERG.L + Complete\n",
            "FLTR.L + Complete\n",
            "FRES.L + Complete\n",
            "GLEN.L + Complete\n",
            "GSK.L + Complete\n",
            "HIK.L + Complete\n",
            "HL.L + Complete\n",
            "HLMA.L + Complete\n",
            "HSBA.L + Complete\n",
            "IAG.L + Complete\n",
            "ICP.L + Complete\n",
            "IHG.L + Complete\n",
            "III.L + Complete\n",
            "IMB.L + Complete\n",
            "INF.L + Complete\n",
            "ITRK.L + Complete\n",
            "JD.L + Complete\n",
            "JET.L + Complete\n",
            "JMAT.L + Complete\n",
            "KGF.L + Complete\n",
            "LAND.L + Complete\n",
            "LGEN.L + Complete\n",
            "LLOY.L + Complete\n",
            "LSEG.L + Complete\n",
            "MNDI.L + Complete\n",
            "MNG.L + Complete\n",
            "MRO.L + Complete\n",
            "MRW.L + Complete\n",
            "NG.L + Complete\n",
            "NWG.L + Complete\n",
            "NXT.L + Complete\n",
            "OCDO.L + Complete\n",
            "PHNX.L + Complete\n",
            "PNN.L + Complete\n",
            "POLY.L + Complete\n",
            "PRU.L + Complete\n",
            "PSH.L + Complete\n",
            "PSN.L + Complete\n",
            "PSON.L + Complete\n",
            "RB.L + Complete\n",
            "RDSA.L + Complete\n",
            "RDSB.L + Complete\n",
            "REL.L + Complete\n",
            "RIO.L + Complete\n",
            "RMV.L + Complete\n",
            "RR.L + Complete\n",
            "RSA.L + Complete\n",
            "RTO.L + Complete\n",
            "SBRY.L + Complete\n",
            "SDR.L + Complete\n",
            "SGE.L + Complete\n",
            "SGRO.L + Complete\n",
            "SKG.L + Complete\n",
            "SLA.L + Complete\n",
            "SMDS.L + Complete\n",
            "SMIN.L + Complete\n",
            "SMT.L + Data Not Found\n",
            "SN.L + Complete\n",
            "SPX.L + Complete\n",
            "SSE.L + Complete\n",
            "STAN.L + Complete\n",
            "STJ.L + Complete\n",
            "SVT.L + Complete\n",
            "TSCO.L + Complete\n",
            "TW.L + Complete\n",
            "ULVR.L + Complete\n",
            "UU.L + Complete\n",
            "VOD.L + Complete\n",
            "WPP.L + Complete\n",
            "WTB.L + Complete\n"
          ],
          "name": "stdout"
        }
      ]
    },
    {
      "cell_type": "code",
      "metadata": {
        "colab": {
          "base_uri": "https://localhost:8080/",
          "height": 204
        },
        "id": "v5RafsGMZbZ3",
        "outputId": "25e6e7cb-d978-42b2-a90c-ac148d8cb57a"
      },
      "source": [
        "filtered_df = main_df[['symbol', 'sector', 'previousClose', 'sharesOutstanding']]\n",
        "filtered_df.head(5) #checking how first 5 rows look like"
      ],
      "execution_count": null,
      "outputs": [
        {
          "output_type": "execute_result",
          "data": {
            "text/html": [
              "<div>\n",
              "<style scoped>\n",
              "    .dataframe tbody tr th:only-of-type {\n",
              "        vertical-align: middle;\n",
              "    }\n",
              "\n",
              "    .dataframe tbody tr th {\n",
              "        vertical-align: top;\n",
              "    }\n",
              "\n",
              "    .dataframe thead th {\n",
              "        text-align: right;\n",
              "    }\n",
              "</style>\n",
              "<table border=\"1\" class=\"dataframe\">\n",
              "  <thead>\n",
              "    <tr style=\"text-align: right;\">\n",
              "      <th></th>\n",
              "      <th>symbol</th>\n",
              "      <th>sector</th>\n",
              "      <th>previousClose</th>\n",
              "      <th>sharesOutstanding</th>\n",
              "    </tr>\n",
              "  </thead>\n",
              "  <tbody>\n",
              "    <tr>\n",
              "      <th>1</th>\n",
              "      <td>AAL.L</td>\n",
              "      <td>Basic Materials</td>\n",
              "      <td>2953.5</td>\n",
              "      <td>1363120000</td>\n",
              "    </tr>\n",
              "    <tr>\n",
              "      <th>1</th>\n",
              "      <td>ABF.L</td>\n",
              "      <td>Consumer Defensive</td>\n",
              "      <td>2421</td>\n",
              "      <td>791673984</td>\n",
              "    </tr>\n",
              "    <tr>\n",
              "      <th>1</th>\n",
              "      <td>ADM.L</td>\n",
              "      <td>Financial Services</td>\n",
              "      <td>3107</td>\n",
              "      <td>296692000</td>\n",
              "    </tr>\n",
              "    <tr>\n",
              "      <th>1</th>\n",
              "      <td>AHT.L</td>\n",
              "      <td>Industrials</td>\n",
              "      <td>3925</td>\n",
              "      <td>449310016</td>\n",
              "    </tr>\n",
              "    <tr>\n",
              "      <th>1</th>\n",
              "      <td>ANTO.L</td>\n",
              "      <td>Basic Materials</td>\n",
              "      <td>1845.5</td>\n",
              "      <td>985857024</td>\n",
              "    </tr>\n",
              "  </tbody>\n",
              "</table>\n",
              "</div>"
            ],
            "text/plain": [
              "   symbol              sector previousClose sharesOutstanding\n",
              "1   AAL.L     Basic Materials        2953.5        1363120000\n",
              "1   ABF.L  Consumer Defensive          2421         791673984\n",
              "1   ADM.L  Financial Services          3107         296692000\n",
              "1   AHT.L         Industrials          3925         449310016\n",
              "1  ANTO.L     Basic Materials        1845.5         985857024"
            ]
          },
          "metadata": {
            "tags": []
          },
          "execution_count": 15
        }
      ]
    },
    {
      "cell_type": "code",
      "metadata": {
        "colab": {
          "base_uri": "https://localhost:8080/",
          "height": 408
        },
        "id": "60DTqeFgZfO7",
        "outputId": "4527a2db-6787-4506-fb92-827709c09ba0"
      },
      "source": [
        "filtered_df['newMarketCap'] = filtered_df['previousClose'] * filtered_df['sharesOutstanding']\n",
        "total_index_mcap = filtered_df['newMarketCap'].sum()\n",
        "filtered_df['marketWeight'] = ((filtered_df['newMarketCap']/total_index_mcap)*100)\n",
        "\n",
        "filtered_df.head()"
      ],
      "execution_count": null,
      "outputs": [
        {
          "output_type": "stream",
          "text": [
            "/usr/local/lib/python3.7/dist-packages/ipykernel_launcher.py:1: SettingWithCopyWarning: \n",
            "A value is trying to be set on a copy of a slice from a DataFrame.\n",
            "Try using .loc[row_indexer,col_indexer] = value instead\n",
            "\n",
            "See the caveats in the documentation: https://pandas.pydata.org/pandas-docs/stable/user_guide/indexing.html#returning-a-view-versus-a-copy\n",
            "  \"\"\"Entry point for launching an IPython kernel.\n",
            "/usr/local/lib/python3.7/dist-packages/ipykernel_launcher.py:3: SettingWithCopyWarning: \n",
            "A value is trying to be set on a copy of a slice from a DataFrame.\n",
            "Try using .loc[row_indexer,col_indexer] = value instead\n",
            "\n",
            "See the caveats in the documentation: https://pandas.pydata.org/pandas-docs/stable/user_guide/indexing.html#returning-a-view-versus-a-copy\n",
            "  This is separate from the ipykernel package so we can avoid doing imports until\n"
          ],
          "name": "stderr"
        },
        {
          "output_type": "execute_result",
          "data": {
            "text/html": [
              "<div>\n",
              "<style scoped>\n",
              "    .dataframe tbody tr th:only-of-type {\n",
              "        vertical-align: middle;\n",
              "    }\n",
              "\n",
              "    .dataframe tbody tr th {\n",
              "        vertical-align: top;\n",
              "    }\n",
              "\n",
              "    .dataframe thead th {\n",
              "        text-align: right;\n",
              "    }\n",
              "</style>\n",
              "<table border=\"1\" class=\"dataframe\">\n",
              "  <thead>\n",
              "    <tr style=\"text-align: right;\">\n",
              "      <th></th>\n",
              "      <th>symbol</th>\n",
              "      <th>sector</th>\n",
              "      <th>previousClose</th>\n",
              "      <th>sharesOutstanding</th>\n",
              "      <th>newMarketCap</th>\n",
              "      <th>marketWeight</th>\n",
              "    </tr>\n",
              "  </thead>\n",
              "  <tbody>\n",
              "    <tr>\n",
              "      <th>1</th>\n",
              "      <td>AAL.L</td>\n",
              "      <td>Basic Materials</td>\n",
              "      <td>2953.5</td>\n",
              "      <td>1363120000</td>\n",
              "      <td>4.02597e+12</td>\n",
              "      <td>2.13558</td>\n",
              "    </tr>\n",
              "    <tr>\n",
              "      <th>1</th>\n",
              "      <td>ABF.L</td>\n",
              "      <td>Consumer Defensive</td>\n",
              "      <td>2421</td>\n",
              "      <td>791673984</td>\n",
              "      <td>1916642715264</td>\n",
              "      <td>1.01668</td>\n",
              "    </tr>\n",
              "    <tr>\n",
              "      <th>1</th>\n",
              "      <td>ADM.L</td>\n",
              "      <td>Financial Services</td>\n",
              "      <td>3107</td>\n",
              "      <td>296692000</td>\n",
              "      <td>921822044000</td>\n",
              "      <td>0.488981</td>\n",
              "    </tr>\n",
              "    <tr>\n",
              "      <th>1</th>\n",
              "      <td>AHT.L</td>\n",
              "      <td>Industrials</td>\n",
              "      <td>3925</td>\n",
              "      <td>449310016</td>\n",
              "      <td>1763541812800</td>\n",
              "      <td>0.935471</td>\n",
              "    </tr>\n",
              "    <tr>\n",
              "      <th>1</th>\n",
              "      <td>ANTO.L</td>\n",
              "      <td>Basic Materials</td>\n",
              "      <td>1845.5</td>\n",
              "      <td>985857024</td>\n",
              "      <td>1.8194e+12</td>\n",
              "      <td>0.9651</td>\n",
              "    </tr>\n",
              "  </tbody>\n",
              "</table>\n",
              "</div>"
            ],
            "text/plain": [
              "   symbol              sector  ...   newMarketCap marketWeight\n",
              "1   AAL.L     Basic Materials  ...    4.02597e+12      2.13558\n",
              "1   ABF.L  Consumer Defensive  ...  1916642715264      1.01668\n",
              "1   ADM.L  Financial Services  ...   921822044000     0.488981\n",
              "1   AHT.L         Industrials  ...  1763541812800     0.935471\n",
              "1  ANTO.L     Basic Materials  ...     1.8194e+12       0.9651\n",
              "\n",
              "[5 rows x 6 columns]"
            ]
          },
          "metadata": {
            "tags": []
          },
          "execution_count": 26
        }
      ]
    },
    {
      "cell_type": "code",
      "metadata": {
        "colab": {
          "base_uri": "https://localhost:8080/",
          "height": 204
        },
        "id": "ByvzGiXffEJp",
        "outputId": "35a2874b-71d0-4a26-acd8-eeeba81471e3"
      },
      "source": [
        "final_df = filtered_df.merge(new_esg_df, how='left', on='symbol')\n",
        "\n",
        "#for more info on .merge visit https://bit.ly/3pFlYIm\n",
        "\n",
        "final_df.head()"
      ],
      "execution_count": null,
      "outputs": [
        {
          "output_type": "execute_result",
          "data": {
            "text/html": [
              "<div>\n",
              "<style scoped>\n",
              "    .dataframe tbody tr th:only-of-type {\n",
              "        vertical-align: middle;\n",
              "    }\n",
              "\n",
              "    .dataframe tbody tr th {\n",
              "        vertical-align: top;\n",
              "    }\n",
              "\n",
              "    .dataframe thead th {\n",
              "        text-align: right;\n",
              "    }\n",
              "</style>\n",
              "<table border=\"1\" class=\"dataframe\">\n",
              "  <thead>\n",
              "    <tr style=\"text-align: right;\">\n",
              "      <th></th>\n",
              "      <th>symbol</th>\n",
              "      <th>sector</th>\n",
              "      <th>previousClose</th>\n",
              "      <th>sharesOutstanding</th>\n",
              "      <th>newMarketCap</th>\n",
              "      <th>marketWeight</th>\n",
              "      <th>socialScore</th>\n",
              "      <th>governanceScore</th>\n",
              "      <th>totalEsg</th>\n",
              "      <th>environmentScore</th>\n",
              "    </tr>\n",
              "  </thead>\n",
              "  <tbody>\n",
              "    <tr>\n",
              "      <th>0</th>\n",
              "      <td>AAL.L</td>\n",
              "      <td>Basic Materials</td>\n",
              "      <td>2953.5</td>\n",
              "      <td>1363120000</td>\n",
              "      <td>4.02597e+12</td>\n",
              "      <td>2.13558</td>\n",
              "      <td>9.52</td>\n",
              "      <td>3.41</td>\n",
              "      <td>23.63</td>\n",
              "      <td>10.71</td>\n",
              "    </tr>\n",
              "    <tr>\n",
              "      <th>1</th>\n",
              "      <td>ABF.L</td>\n",
              "      <td>Consumer Defensive</td>\n",
              "      <td>2421</td>\n",
              "      <td>791673984</td>\n",
              "      <td>1916642715264</td>\n",
              "      <td>1.01668</td>\n",
              "      <td>15.4</td>\n",
              "      <td>4.94</td>\n",
              "      <td>30.12</td>\n",
              "      <td>9.78</td>\n",
              "    </tr>\n",
              "    <tr>\n",
              "      <th>2</th>\n",
              "      <td>ADM.L</td>\n",
              "      <td>Financial Services</td>\n",
              "      <td>3107</td>\n",
              "      <td>296692000</td>\n",
              "      <td>921822044000</td>\n",
              "      <td>0.488981</td>\n",
              "      <td>6.94</td>\n",
              "      <td>11.4</td>\n",
              "      <td>20.06</td>\n",
              "      <td>1.71</td>\n",
              "    </tr>\n",
              "    <tr>\n",
              "      <th>3</th>\n",
              "      <td>AHT.L</td>\n",
              "      <td>Industrials</td>\n",
              "      <td>3925</td>\n",
              "      <td>449310016</td>\n",
              "      <td>1763541812800</td>\n",
              "      <td>0.935471</td>\n",
              "      <td>5.57</td>\n",
              "      <td>6.83</td>\n",
              "      <td>19.41</td>\n",
              "      <td>7.01</td>\n",
              "    </tr>\n",
              "    <tr>\n",
              "      <th>4</th>\n",
              "      <td>ANTO.L</td>\n",
              "      <td>Basic Materials</td>\n",
              "      <td>1845.5</td>\n",
              "      <td>985857024</td>\n",
              "      <td>1.8194e+12</td>\n",
              "      <td>0.9651</td>\n",
              "      <td>9.22</td>\n",
              "      <td>5.61</td>\n",
              "      <td>28.99</td>\n",
              "      <td>14.16</td>\n",
              "    </tr>\n",
              "  </tbody>\n",
              "</table>\n",
              "</div>"
            ],
            "text/plain": [
              "   symbol              sector  ... totalEsg environmentScore\n",
              "0   AAL.L     Basic Materials  ...    23.63            10.71\n",
              "1   ABF.L  Consumer Defensive  ...    30.12             9.78\n",
              "2   ADM.L  Financial Services  ...    20.06             1.71\n",
              "3   AHT.L         Industrials  ...    19.41             7.01\n",
              "4  ANTO.L     Basic Materials  ...    28.99            14.16\n",
              "\n",
              "[5 rows x 10 columns]"
            ]
          },
          "metadata": {
            "tags": []
          },
          "execution_count": 69
        }
      ]
    },
    {
      "cell_type": "code",
      "metadata": {
        "id": "wmOGXiTfZjbs"
      },
      "source": [
        "final_esg_df = pd.DataFrame() #empty df\n",
        "\n",
        "sector_list = final_df['sector'].unique().tolist() #getting list of sectors in index"
      ],
      "execution_count": null,
      "outputs": []
    },
    {
      "cell_type": "code",
      "metadata": {
        "colab": {
          "base_uri": "https://localhost:8080/"
        },
        "id": "lSPrl4EFZn4A",
        "outputId": "2b7c8da2-9cfd-4b26-f216-86222c1bf7bc"
      },
      "source": [
        "#looping over each sector and apply .mean to calculate average\n",
        "for sector in sector_list:\n",
        "    sector_df = final_df[final_df['sector'] == sector]\n",
        "    sector_df['socialScore'].fillna(round(sector_df['socialScore'].mean(),2), inplace=True)\n",
        "    sector_df['governanceScore'].fillna(round(sector_df['governanceScore'].mean(),2), inplace=True)\n",
        "    sector_df['totalEsg'].fillna(round(sector_df['totalEsg'].mean(),2), inplace=True)\n",
        "    sector_df['environmentScore'].fillna(round(sector_df['environmentScore'].mean(),2), inplace=True)\n",
        "\n",
        "    final_esg_df = final_esg_df.append(sector_df)"
      ],
      "execution_count": null,
      "outputs": [
        {
          "output_type": "stream",
          "text": [
            "/usr/local/lib/python3.7/dist-packages/pandas/core/series.py:4536: SettingWithCopyWarning: \n",
            "A value is trying to be set on a copy of a slice from a DataFrame\n",
            "\n",
            "See the caveats in the documentation: https://pandas.pydata.org/pandas-docs/stable/user_guide/indexing.html#returning-a-view-versus-a-copy\n",
            "  downcast=downcast,\n"
          ],
          "name": "stderr"
        }
      ]
    },
    {
      "cell_type": "code",
      "metadata": {
        "colab": {
          "base_uri": "https://localhost:8080/",
          "height": 204
        },
        "id": "lb563n1FZqnv",
        "outputId": "d007a3c1-e9bd-45c3-97c1-61e252c0892c"
      },
      "source": [
        "final_esg_df.head(5)"
      ],
      "execution_count": null,
      "outputs": [
        {
          "output_type": "execute_result",
          "data": {
            "text/html": [
              "<div>\n",
              "<style scoped>\n",
              "    .dataframe tbody tr th:only-of-type {\n",
              "        vertical-align: middle;\n",
              "    }\n",
              "\n",
              "    .dataframe tbody tr th {\n",
              "        vertical-align: top;\n",
              "    }\n",
              "\n",
              "    .dataframe thead th {\n",
              "        text-align: right;\n",
              "    }\n",
              "</style>\n",
              "<table border=\"1\" class=\"dataframe\">\n",
              "  <thead>\n",
              "    <tr style=\"text-align: right;\">\n",
              "      <th></th>\n",
              "      <th>symbol</th>\n",
              "      <th>sector</th>\n",
              "      <th>previousClose</th>\n",
              "      <th>sharesOutstanding</th>\n",
              "      <th>newMarketCap</th>\n",
              "      <th>marketWeight</th>\n",
              "      <th>socialScore</th>\n",
              "      <th>governanceScore</th>\n",
              "      <th>totalEsg</th>\n",
              "      <th>environmentScore</th>\n",
              "    </tr>\n",
              "  </thead>\n",
              "  <tbody>\n",
              "    <tr>\n",
              "      <th>0</th>\n",
              "      <td>AAL.L</td>\n",
              "      <td>Basic Materials</td>\n",
              "      <td>2953.5</td>\n",
              "      <td>1363120000</td>\n",
              "      <td>4.02597e+12</td>\n",
              "      <td>2.13558</td>\n",
              "      <td>9.52</td>\n",
              "      <td>3.41</td>\n",
              "      <td>23.63</td>\n",
              "      <td>10.71</td>\n",
              "    </tr>\n",
              "    <tr>\n",
              "      <th>4</th>\n",
              "      <td>ANTO.L</td>\n",
              "      <td>Basic Materials</td>\n",
              "      <td>1845.5</td>\n",
              "      <td>985857024</td>\n",
              "      <td>1.8194e+12</td>\n",
              "      <td>0.9651</td>\n",
              "      <td>9.22</td>\n",
              "      <td>5.61</td>\n",
              "      <td>28.99</td>\n",
              "      <td>14.16</td>\n",
              "    </tr>\n",
              "    <tr>\n",
              "      <th>14</th>\n",
              "      <td>BHP.L</td>\n",
              "      <td>Basic Materials</td>\n",
              "      <td>2350</td>\n",
              "      <td>2112000000</td>\n",
              "      <td>4963200000000</td>\n",
              "      <td>2.63273</td>\n",
              "      <td>9.72</td>\n",
              "      <td>4.85</td>\n",
              "      <td>31.97</td>\n",
              "      <td>17.40</td>\n",
              "    </tr>\n",
              "    <tr>\n",
              "      <th>24</th>\n",
              "      <td>CRDA.L</td>\n",
              "      <td>Basic Materials</td>\n",
              "      <td>6240</td>\n",
              "      <td>139519008</td>\n",
              "      <td>870598609920</td>\n",
              "      <td>0.461809</td>\n",
              "      <td>6.66</td>\n",
              "      <td>6.48</td>\n",
              "      <td>25.14</td>\n",
              "      <td>12.01</td>\n",
              "    </tr>\n",
              "    <tr>\n",
              "      <th>25</th>\n",
              "      <td>CRH.L</td>\n",
              "      <td>Basic Materials</td>\n",
              "      <td>3190</td>\n",
              "      <td>785067008</td>\n",
              "      <td>2504363755520</td>\n",
              "      <td>1.32844</td>\n",
              "      <td>2.81</td>\n",
              "      <td>5.32</td>\n",
              "      <td>21.34</td>\n",
              "      <td>13.21</td>\n",
              "    </tr>\n",
              "  </tbody>\n",
              "</table>\n",
              "</div>"
            ],
            "text/plain": [
              "    symbol           sector  ... totalEsg environmentScore\n",
              "0    AAL.L  Basic Materials  ...    23.63            10.71\n",
              "4   ANTO.L  Basic Materials  ...    28.99            14.16\n",
              "14   BHP.L  Basic Materials  ...    31.97            17.40\n",
              "24  CRDA.L  Basic Materials  ...    25.14            12.01\n",
              "25   CRH.L  Basic Materials  ...    21.34            13.21\n",
              "\n",
              "[5 rows x 10 columns]"
            ]
          },
          "metadata": {
            "tags": []
          },
          "execution_count": 53
        }
      ]
    },
    {
      "cell_type": "code",
      "metadata": {
        "id": "XfzgYKECZr6f"
      },
      "source": [
        "#also adding the weighted average columns into this new final_esg_df\n",
        "final_esg_df['mktweightedEsg'] = (final_esg_df['marketWeight'] * final_esg_df['totalEsg'])/100\n",
        "final_esg_df['mktweightedEnvScore'] = (final_esg_df['marketWeight'] * final_esg_df['environmentScore'])/100\n",
        "final_esg_df['mktweightedSocScore'] = (final_esg_df['marketWeight'] * final_esg_df['socialScore'])/100\n",
        "final_esg_df['mktweightedGovScore'] = (final_esg_df['marketWeight'] * final_esg_df['governanceScore'])/100"
      ],
      "execution_count": null,
      "outputs": []
    },
    {
      "cell_type": "code",
      "metadata": {
        "colab": {
          "base_uri": "https://localhost:8080/",
          "height": 309
        },
        "id": "CJ8_3HnVZuiR",
        "outputId": "724dec6c-b2a6-4eb0-9606-840b626fc693"
      },
      "source": [
        "final_esg_df.head(5)"
      ],
      "execution_count": null,
      "outputs": [
        {
          "output_type": "execute_result",
          "data": {
            "text/html": [
              "<div>\n",
              "<style scoped>\n",
              "    .dataframe tbody tr th:only-of-type {\n",
              "        vertical-align: middle;\n",
              "    }\n",
              "\n",
              "    .dataframe tbody tr th {\n",
              "        vertical-align: top;\n",
              "    }\n",
              "\n",
              "    .dataframe thead th {\n",
              "        text-align: right;\n",
              "    }\n",
              "</style>\n",
              "<table border=\"1\" class=\"dataframe\">\n",
              "  <thead>\n",
              "    <tr style=\"text-align: right;\">\n",
              "      <th></th>\n",
              "      <th>symbol</th>\n",
              "      <th>sector</th>\n",
              "      <th>previousClose</th>\n",
              "      <th>sharesOutstanding</th>\n",
              "      <th>newMarketCap</th>\n",
              "      <th>marketWeight</th>\n",
              "      <th>socialScore</th>\n",
              "      <th>governanceScore</th>\n",
              "      <th>totalEsg</th>\n",
              "      <th>environmentScore</th>\n",
              "      <th>mktweightedEsg</th>\n",
              "      <th>mktweightedEnvScore</th>\n",
              "      <th>mktweightedSocScore</th>\n",
              "      <th>mktweightedGovScore</th>\n",
              "    </tr>\n",
              "  </thead>\n",
              "  <tbody>\n",
              "    <tr>\n",
              "      <th>0</th>\n",
              "      <td>AAL.L</td>\n",
              "      <td>Basic Materials</td>\n",
              "      <td>2953.5</td>\n",
              "      <td>1363120000</td>\n",
              "      <td>4.02597e+12</td>\n",
              "      <td>2.13558</td>\n",
              "      <td>9.52</td>\n",
              "      <td>3.41</td>\n",
              "      <td>23.63</td>\n",
              "      <td>10.71</td>\n",
              "      <td>0.504637</td>\n",
              "      <td>0.22872</td>\n",
              "      <td>0.203307</td>\n",
              "      <td>0.0728232</td>\n",
              "    </tr>\n",
              "    <tr>\n",
              "      <th>4</th>\n",
              "      <td>ANTO.L</td>\n",
              "      <td>Basic Materials</td>\n",
              "      <td>1845.5</td>\n",
              "      <td>985857024</td>\n",
              "      <td>1.8194e+12</td>\n",
              "      <td>0.9651</td>\n",
              "      <td>9.22</td>\n",
              "      <td>5.61</td>\n",
              "      <td>28.99</td>\n",
              "      <td>14.16</td>\n",
              "      <td>0.279783</td>\n",
              "      <td>0.136658</td>\n",
              "      <td>0.0889823</td>\n",
              "      <td>0.0541421</td>\n",
              "    </tr>\n",
              "    <tr>\n",
              "      <th>14</th>\n",
              "      <td>BHP.L</td>\n",
              "      <td>Basic Materials</td>\n",
              "      <td>2350</td>\n",
              "      <td>2112000000</td>\n",
              "      <td>4963200000000</td>\n",
              "      <td>2.63273</td>\n",
              "      <td>9.72</td>\n",
              "      <td>4.85</td>\n",
              "      <td>31.97</td>\n",
              "      <td>17.40</td>\n",
              "      <td>0.841684</td>\n",
              "      <td>0.458095</td>\n",
              "      <td>0.255901</td>\n",
              "      <td>0.127687</td>\n",
              "    </tr>\n",
              "    <tr>\n",
              "      <th>24</th>\n",
              "      <td>CRDA.L</td>\n",
              "      <td>Basic Materials</td>\n",
              "      <td>6240</td>\n",
              "      <td>139519008</td>\n",
              "      <td>870598609920</td>\n",
              "      <td>0.461809</td>\n",
              "      <td>6.66</td>\n",
              "      <td>6.48</td>\n",
              "      <td>25.14</td>\n",
              "      <td>12.01</td>\n",
              "      <td>0.116099</td>\n",
              "      <td>0.0554633</td>\n",
              "      <td>0.0307565</td>\n",
              "      <td>0.0299252</td>\n",
              "    </tr>\n",
              "    <tr>\n",
              "      <th>25</th>\n",
              "      <td>CRH.L</td>\n",
              "      <td>Basic Materials</td>\n",
              "      <td>3190</td>\n",
              "      <td>785067008</td>\n",
              "      <td>2504363755520</td>\n",
              "      <td>1.32844</td>\n",
              "      <td>2.81</td>\n",
              "      <td>5.32</td>\n",
              "      <td>21.34</td>\n",
              "      <td>13.21</td>\n",
              "      <td>0.283489</td>\n",
              "      <td>0.175487</td>\n",
              "      <td>0.0373292</td>\n",
              "      <td>0.070673</td>\n",
              "    </tr>\n",
              "  </tbody>\n",
              "</table>\n",
              "</div>"
            ],
            "text/plain": [
              "    symbol           sector  ... mktweightedSocScore mktweightedGovScore\n",
              "0    AAL.L  Basic Materials  ...            0.203307           0.0728232\n",
              "4   ANTO.L  Basic Materials  ...           0.0889823           0.0541421\n",
              "14   BHP.L  Basic Materials  ...            0.255901            0.127687\n",
              "24  CRDA.L  Basic Materials  ...           0.0307565           0.0299252\n",
              "25   CRH.L  Basic Materials  ...           0.0373292            0.070673\n",
              "\n",
              "[5 rows x 14 columns]"
            ]
          },
          "metadata": {
            "tags": []
          },
          "execution_count": 55
        }
      ]
    },
    {
      "cell_type": "code",
      "metadata": {
        "colab": {
          "base_uri": "https://localhost:8080/"
        },
        "id": "Iq1Q7uVBZvd-",
        "outputId": "98ca8976-f214-4d5a-de51-7a054ecdd124"
      },
      "source": [
        "print('Total Environment Score: {}'.format(round(final_esg_df['mktweightedEnvScore'].sum(),2)))\n",
        "print('Total Social Score: {}'.format(round(final_esg_df['mktweightedSocScore'].sum(),2)))\n",
        "print('Total Governance Score: {}'.format(round(final_esg_df['mktweightedGovScore'].sum(),2)))\n",
        "print('Total ESG Score: {}'.format(round(final_esg_df['mktweightedEsg'].sum(),2)))"
      ],
      "execution_count": null,
      "outputs": [
        {
          "output_type": "stream",
          "text": [
            "Total Environment Score: 6.73\n",
            "Total Social Score: 9.97\n",
            "Total Governance Score: 7.23\n",
            "Total ESG Score: 23.93\n"
          ],
          "name": "stdout"
        }
      ]
    },
    {
      "cell_type": "code",
      "metadata": {
        "id": "Nsn_Y_yrh0zD"
      },
      "source": [],
      "execution_count": null,
      "outputs": []
    },
    {
      "cell_type": "code",
      "metadata": {
        "id": "xcc4Jj18i1Fl"
      },
      "source": [],
      "execution_count": null,
      "outputs": []
    }
  ]
}