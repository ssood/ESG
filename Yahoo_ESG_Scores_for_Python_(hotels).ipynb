{
  "nbformat": 4,
  "nbformat_minor": 0,
  "metadata": {
    "colab": {
      "provenance": [],
      "authorship_tag": "ABX9TyN4PKwFjijgwPM+oLfFY7II",
      "include_colab_link": true
    },
    "kernelspec": {
      "name": "python3",
      "display_name": "Python 3"
    },
    "language_info": {
      "name": "python"
    }
  },
  "cells": [
    {
      "cell_type": "markdown",
      "metadata": {
        "id": "view-in-github",
        "colab_type": "text"
      },
      "source": [
        "<a href=\"https://colab.research.google.com/github/ssood/ESG/blob/main/Yahoo_ESG_Scores_for_Python_(hotels).ipynb\" target=\"_parent\"><img src=\"https://colab.research.google.com/assets/colab-badge.svg\" alt=\"Open In Colab\"/></a>"
      ]
    },
    {
      "cell_type": "code",
      "source": [
        "!pip install yesg"
      ],
      "metadata": {
        "colab": {
          "base_uri": "https://localhost:8080/"
        },
        "id": "6Cy3uYGKybNX",
        "outputId": "34c4473a-2c7f-4355-a922-2da28d05a50b"
      },
      "execution_count": null,
      "outputs": [
        {
          "output_type": "stream",
          "name": "stdout",
          "text": [
            "Looking in indexes: https://pypi.org/simple, https://us-python.pkg.dev/colab-wheels/public/simple/\n",
            "Requirement already satisfied: yesg in /usr/local/lib/python3.8/dist-packages (2.1.1)\n"
          ]
        }
      ]
    },
    {
      "cell_type": "code",
      "source": [
        "import yesg\n",
        "import pandas as pd"
      ],
      "metadata": {
        "id": "GPwb7XWP05E8"
      },
      "execution_count": null,
      "outputs": []
    },
    {
      "cell_type": "code",
      "source": [
        "ticker_symbols = ['AC.PA', 'HLT','H','ICHGF','MAR','WTB.L']"
      ],
      "metadata": {
        "id": "xaLc7SQu7Mgo"
      },
      "execution_count": null,
      "outputs": []
    },
    {
      "cell_type": "code",
      "source": [
        "def get_esg_info(ticker_symbols):\n",
        "  for symbol in ticker_symbols:\n",
        "        print(\"Full ESG Information for\", symbol)\n",
        "        print(yesg.get_esg_full(symbol).to_string(), \"\\n\")\n",
        "        print(\"ESG Risk Rating for\", symbol)\n",
        "        print(yesg.get_esg_short(symbol).to_string(), \"\\n\")\n",
        "\n"
      ],
      "metadata": {
        "id": "dVROWX3q5AP9"
      },
      "execution_count": null,
      "outputs": []
    },
    {
      "cell_type": "code",
      "source": [
        "get_esg_info(ticker_symbols)"
      ],
      "metadata": {
        "colab": {
          "base_uri": "https://localhost:8080/"
        },
        "id": "raNjow_k1aaN",
        "outputId": "5d91fe9f-089f-4d90-c8a8-945cb948c22d"
      },
      "execution_count": null,
      "outputs": [
        {
          "output_type": "stream",
          "name": "stdout",
          "text": [
            "Full ESG Information for AC.PA\n",
            "  Ticker Total-Score E-Score S-Score G-Score Last Rated ESG Performance         peer Group  Highest Controversy  peer Count  total Percentile environment Percentile social Percentile governance Percentile                                                  related Controversy  min peer ESG  avg peer ESG  max peer ESG  min peer Environment  avg peer Environment  max peer Environment  min peer Social  avg peer Social  max peer Social  min peer Governance  avg peer Governance  max peer Governance  min Highest Controversy  avg Highest Controversy  max Highest Controversy Controversial Business Areas\n",
            "0  AC.PA        18.4     6.8     7.2     4.3   Aug 2022      UNDER_PERF  Consumer Services                  2.0          44              19.9                   None              None                  None  Employee Incidents,Customer Incidents,Society & Community Incidents          13.3     22.789545         31.02                  0.15               5.71122                 13.59             6.55        10.787561            16.68                 3.09             6.590976                 13.5                      0.0                 2.068182                      4.0                              \n",
            "\n",
            "ESG Risk Rating for AC.PA\n",
            "  Ticker Total-Score E-Score S-Score G-Score Last Rated\n",
            "0  AC.PA        18.4     6.8     7.2     4.3   Aug 2022 \n",
            "\n",
            "Full ESG Information for HLT\n",
            "  Ticker Total-Score E-Score S-Score G-Score Last Rated ESG Performance         peer Group  Highest Controversy  peer Count  total Percentile environment Percentile social Percentile governance Percentile                                                                                related Controversy  min peer ESG  avg peer ESG  max peer ESG  min peer Environment  avg peer Environment  max peer Environment  min peer Social  avg peer Social  max peer Social  min peer Governance  avg peer Governance  max peer Governance  min Highest Controversy  avg Highest Controversy  max Highest Controversy Controversial Business Areas\n",
            "0    HLT        17.5     7.0     6.7     3.9   Aug 2022      UNDER_PERF  Consumer Services                  2.0          44             17.36                   None              None                  None  Employee Incidents,Social Supply Chain Incidents,Customer Incidents,Society & Community Incidents          13.3     22.789545         31.02                  0.15               5.71122                 13.59             6.55        10.787561            16.68                 3.09             6.590976                 13.5                      0.0                 2.068182                      4.0                              \n",
            "\n",
            "ESG Risk Rating for HLT\n",
            "  Ticker Total-Score E-Score S-Score G-Score Last Rated\n",
            "0    HLT        17.5     7.0     6.7     3.9   Aug 2022 \n",
            "\n",
            "Full ESG Information for H\n",
            "  Ticker Total-Score E-Score S-Score G-Score Last Rated ESG Performance         peer Group  Highest Controversy  peer Count  total Percentile environment Percentile social Percentile governance Percentile                                              related Controversy  min peer ESG  avg peer ESG  max peer ESG  min peer Environment  avg peer Environment  max peer Environment  min peer Social  avg peer Social  max peer Social  min peer Governance  avg peer Governance  max peer Governance  min Highest Controversy  avg Highest Controversy  max Highest Controversy Controversial Business Areas\n",
            "0      H        30.2    13.6    11.5     5.1   Aug 2022        OUT_PERF  Consumer Services                  2.0          44             64.08                   None              None                  None  Employee Incidents,Customer Incidents,Business Ethics Incidents          13.3     22.789545         31.02                  0.15               5.71122                 13.59             6.55        10.787561            16.68                 3.09             6.590976                 13.5                      0.0                 2.068182                      4.0                              \n",
            "\n",
            "ESG Risk Rating for H\n",
            "  Ticker Total-Score E-Score S-Score G-Score Last Rated\n",
            "0      H        30.2    13.6    11.5     5.1   Aug 2022 \n",
            "\n",
            "Full ESG Information for ICHGF\n",
            "  Ticker Total-Score E-Score S-Score G-Score Last Rated ESG Performance         peer Group  Highest Controversy  peer Count  total Percentile environment Percentile social Percentile governance Percentile                                              related Controversy  min peer ESG  avg peer ESG  max peer ESG  min peer Environment  avg peer Environment  max peer Environment  min peer Social  avg peer Social  max peer Social  min peer Governance  avg peer Governance  max peer Governance  min Highest Controversy  avg Highest Controversy  max Highest Controversy Controversial Business Areas\n",
            "0  ICHGF        19.4     8.9     7.1     3.4   Aug 2022      UNDER_PERF  Consumer Services                  2.0          44             23.52                   None              None                  None  Employee Incidents,Customer Incidents,Business Ethics Incidents          13.3     22.789545         31.02                  0.15               5.71122                 13.59             6.55        10.787561            16.68                 3.09             6.590976                 13.5                      0.0                 2.068182                      4.0                              \n",
            "\n",
            "ESG Risk Rating for ICHGF\n",
            "  Ticker Total-Score E-Score S-Score G-Score Last Rated\n",
            "0  ICHGF        19.4     8.9     7.1     3.4   Aug 2022 \n",
            "\n",
            "Full ESG Information for MAR\n",
            "  Ticker Total-Score E-Score S-Score G-Score Last Rated ESG Performance         peer Group  Highest Controversy  peer Count  total Percentile environment Percentile social Percentile governance Percentile                    related Controversy  min peer ESG  avg peer ESG  max peer ESG  min peer Environment  avg peer Environment  max peer Environment  min peer Social  avg peer Social  max peer Social  min peer Governance  avg peer Governance  max peer Governance  min Highest Controversy  avg Highest Controversy  max Highest Controversy Controversial Business Areas\n",
            "0    MAR        21.9     8.8     9.1     4.1   Aug 2022        AVG_PERF  Consumer Services                  3.0          44             31.85                   None              None                  None  Employee Incidents,Customer Incidents          13.3     22.789545         31.02                  0.15               5.71122                 13.59             6.55        10.787561            16.68                 3.09             6.590976                 13.5                      0.0                 2.068182                      4.0                              \n",
            "\n",
            "ESG Risk Rating for MAR\n",
            "  Ticker Total-Score E-Score S-Score G-Score Last Rated\n",
            "0    MAR        21.9     8.8     9.1     4.1   Aug 2022 \n",
            "\n",
            "Full ESG Information for WTB.L\n",
            "  Ticker Total-Score E-Score S-Score G-Score Last Rated ESG Performance         peer Group  Highest Controversy  peer Count  total Percentile environment Percentile social Percentile governance Percentile   related Controversy  min peer ESG  avg peer ESG  max peer ESG  min peer Environment  avg peer Environment  max peer Environment  min peer Social  avg peer Social  max peer Social  min peer Governance  avg peer Governance  max peer Governance  min Highest Controversy  avg Highest Controversy  max Highest Controversy Controversial Business Areas\n",
            "0  WTB.L        17.8     8.1     6.6     3.1   Aug 2022      UNDER_PERF  Consumer Services                  1.0          44             18.16                   None              None                  None  Governance Incidents          13.3     22.789545         31.02                  0.15               5.71122                 13.59             6.55        10.787561            16.68                 3.09             6.590976                 13.5                      0.0                 2.068182                      4.0                              \n",
            "\n",
            "ESG Risk Rating for WTB.L\n",
            "  Ticker Total-Score E-Score S-Score G-Score Last Rated\n",
            "0  WTB.L        17.8     8.1     6.6     3.1   Aug 2022 \n",
            "\n"
          ]
        }
      ]
    }
  ]
}