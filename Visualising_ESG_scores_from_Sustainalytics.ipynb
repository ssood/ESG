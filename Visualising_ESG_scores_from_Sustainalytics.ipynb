{
  "nbformat": 4,
  "nbformat_minor": 0,
  "metadata": {
    "orig_nbformat": 2,
    "deepnote_notebook_id": "d9ae0030-6849-4c04-bdd8-6a09739fba99",
    "deepnote_execution_queue": [],
    "deepnote": {
      "is_reactive": false
    },
    "colab": {
      "provenance": [],
      "include_colab_link": true
    },
    "language_info": {
      "name": "python"
    },
    "kernelspec": {
      "name": "python3",
      "display_name": "Python 3"
    }
  },
  "cells": [
    {
      "cell_type": "markdown",
      "metadata": {
        "id": "view-in-github",
        "colab_type": "text"
      },
      "source": [
        "<a href=\"https://colab.research.google.com/github/ssood/ESG/blob/main/Visualising_ESG_scores_from_Sustainalytics.ipynb\" target=\"_parent\"><img src=\"https://colab.research.google.com/assets/colab-badge.svg\" alt=\"Open In Colab\"/></a>"
      ]
    },
    {
      "cell_type": "markdown",
      "metadata": {
        "tags": [],
        "cell_id": "00000-94babd0c-08ea-4703-a203-dfcb9a38d27e",
        "deepnote_cell_type": "markdown",
        "id": "M0W8iNWghghz"
      },
      "source": [
        "# Visualising ESG scores from Sustainalytics\n",
        "### Adapted from work of Shantala Mukherjee\n",
        "\n",
        "This  notebook looks at the ESG scores of the stocks in prominent country indices of USA, UK, Japan and Australia. We will obtain the sustainability data from Yahoo! Finance using the Python yfinance library to download historical market data from Yahoo! finance. Yahoo! Finance obtains the ESG scores from Sustainalytics."
      ]
    },
    {
      "cell_type": "code",
      "metadata": {
        "id": "7Qyip26UhpYe",
        "colab": {
          "base_uri": "https://localhost:8080/"
        },
        "outputId": "a5ffa08b-be44-455d-bf8d-428e92a5df92"
      },
      "source": [
        "!pip install yfinance"
      ],
      "execution_count": null,
      "outputs": [
        {
          "output_type": "stream",
          "name": "stdout",
          "text": [
            "Looking in indexes: https://pypi.org/simple, https://us-python.pkg.dev/colab-wheels/public/simple/\n",
            "Collecting yfinance\n",
            "  Downloading yfinance-0.1.87-py2.py3-none-any.whl (29 kB)\n",
            "Requirement already satisfied: lxml>=4.5.1 in /usr/local/lib/python3.7/dist-packages (from yfinance) (4.9.1)\n",
            "Requirement already satisfied: pandas>=0.24.0 in /usr/local/lib/python3.7/dist-packages (from yfinance) (1.3.5)\n",
            "Collecting requests>=2.26\n",
            "  Downloading requests-2.28.1-py3-none-any.whl (62 kB)\n",
            "\u001b[K     |████████████████████████████████| 62 kB 1.5 MB/s \n",
            "\u001b[?25hRequirement already satisfied: numpy>=1.15 in /usr/local/lib/python3.7/dist-packages (from yfinance) (1.21.6)\n",
            "Requirement already satisfied: appdirs>=1.4.4 in /usr/local/lib/python3.7/dist-packages (from yfinance) (1.4.4)\n",
            "Requirement already satisfied: multitasking>=0.0.7 in /usr/local/lib/python3.7/dist-packages (from yfinance) (0.0.11)\n",
            "Requirement already satisfied: pytz>=2017.3 in /usr/local/lib/python3.7/dist-packages (from pandas>=0.24.0->yfinance) (2022.6)\n",
            "Requirement already satisfied: python-dateutil>=2.7.3 in /usr/local/lib/python3.7/dist-packages (from pandas>=0.24.0->yfinance) (2.8.2)\n",
            "Requirement already satisfied: six>=1.5 in /usr/local/lib/python3.7/dist-packages (from python-dateutil>=2.7.3->pandas>=0.24.0->yfinance) (1.15.0)\n",
            "Requirement already satisfied: urllib3<1.27,>=1.21.1 in /usr/local/lib/python3.7/dist-packages (from requests>=2.26->yfinance) (1.24.3)\n",
            "Requirement already satisfied: idna<4,>=2.5 in /usr/local/lib/python3.7/dist-packages (from requests>=2.26->yfinance) (2.10)\n",
            "Requirement already satisfied: charset-normalizer<3,>=2 in /usr/local/lib/python3.7/dist-packages (from requests>=2.26->yfinance) (2.1.1)\n",
            "Requirement already satisfied: certifi>=2017.4.17 in /usr/local/lib/python3.7/dist-packages (from requests>=2.26->yfinance) (2022.9.24)\n",
            "Installing collected packages: requests, yfinance\n",
            "  Attempting uninstall: requests\n",
            "    Found existing installation: requests 2.23.0\n",
            "    Uninstalling requests-2.23.0:\n",
            "      Successfully uninstalled requests-2.23.0\n",
            "Successfully installed requests-2.28.1 yfinance-0.1.87\n"
          ]
        }
      ]
    },
    {
      "cell_type": "code",
      "metadata": {
        "tags": [],
        "cell_id": "00002-31617e71-afea-4f45-bd14-398a7db7252a",
        "output_cleared": false,
        "source_hash": "33f199c6",
        "execution_millis": 506,
        "deepnote_to_be_reexecuted": false,
        "execution_start": 1630789618166,
        "deepnote_cell_type": "code",
        "id": "NKwOvGjnhgh3"
      },
      "source": [
        "import pandas as pd\n",
        "import numpy as np\n",
        "import openpyxl\n",
        "import altair as alt\n",
        "import yfinance as yf\n",
        "from IPython.display import display, HTML"
      ],
      "execution_count": null,
      "outputs": []
    },
    {
      "cell_type": "markdown",
      "metadata": {
        "tags": [],
        "cell_id": "00002-3fa94bf1-46ec-4a42-b6a0-0ff46cbc8a4e",
        "deepnote_cell_type": "markdown",
        "id": "xINJsttlhgh5"
      },
      "source": [
        "## Read in the index components from the website topforeignstocks.com\n",
        "### See https://topforeignstocks.com/wp-content/uploads/2021/"
      ]
    },
    {
      "cell_type": "code",
      "source": [],
      "metadata": {
        "id": "tWU7ijk42egQ"
      },
      "execution_count": null,
      "outputs": []
    },
    {
      "cell_type": "markdown",
      "metadata": {
        "id": "kMByQRBgjGXs"
      },
      "source": [
        "##openpyxl is a Python library to read/write Excel 2010 xlsx/xlsm/xltx/xltm files"
      ]
    },
    {
      "cell_type": "code",
      "metadata": {
        "tags": [],
        "cell_id": "00003-5634f70c-a501-4487-890e-d2a33a1ae75a",
        "output_cleared": false,
        "source_hash": "2cbd64aa",
        "execution_millis": 1751,
        "deepnote_to_be_reexecuted": false,
        "execution_start": 1630789618681,
        "deepnote_cell_type": "code",
        "id": "Ggfcwp23hgh6"
      },
      "source": [
        "#FTSE 100 holdings (United Kingdom)\n",
        "dfuk = pd.read_excel('https://topforeignstocks.com/wp-content/uploads/2021/01/UK-FTSE-100-Index-Constituents-List-Jan-2021-New.xlsx', engine='openpyxl')\n",
        "\n",
        "#ASX holdings (Australia)\n",
        "dfaus = pd.read_excel('https://topforeignstocks.com/wp-content/uploads/2021/01/Australia-ASX-200-Index-Constituents-List-Jan-2021.xlsx', engine='openpyxl')\n",
        "\n",
        "#Nikkei 225 holdings (Japan)\n",
        "dfjapan = pd.read_excel('https://topforeignstocks.com/wp-content/uploads/2020/01/Complete-List-of-Constituents-of-Nikkei-225-Jan-2020-Original.xlsx', engine='openpyxl')\n",
        "\n",
        "#S&P 500  (United States of America)\n",
        "dfusa = pd.read_excel('https://topforeignstocks.com/wp-content/uploads/2021/01/SP-500-Index-Constituents-List-Jan-1-2021.xlsx', engine='openpyxl')\n"
      ],
      "execution_count": null,
      "outputs": []
    },
    {
      "cell_type": "code",
      "metadata": {
        "tags": [],
        "cell_id": "00004-50746e1d-fade-4d61-8ec8-2065d6bd38d2",
        "output_cleared": false,
        "source_hash": "abc3a27",
        "execution_millis": 18,
        "deepnote_to_be_reexecuted": false,
        "execution_start": 1630789620471,
        "deepnote_cell_type": "code",
        "colab": {
          "base_uri": "https://localhost:8080/",
          "height": 206
        },
        "id": "T3q_H3s8hgh8",
        "outputId": "ede1d75a-18aa-4856-ccb1-6fb3db47418f"
      },
      "source": [
        "dfuk.head() #show the first five rows of the dataframe"
      ],
      "execution_count": null,
      "outputs": [
        {
          "output_type": "execute_result",
          "data": {
            "text/plain": [
              "   S.No.        Company Name Ticker\n",
              "0      1       3I GROUP PLC     III\n",
              "1      2   ADMIRAL GROUP PLC    ADM\n",
              "2      3  ANGLO AMERICAN PLC    AAL\n",
              "3      4    ANTOFAGASTA PLC    ANTO\n",
              "4      5  ASHTEAD GROUP PLC     AHT"
            ],
            "text/html": [
              "\n",
              "  <div id=\"df-a8ab561d-1c77-46a5-8e6b-bfaf00dfea65\">\n",
              "    <div class=\"colab-df-container\">\n",
              "      <div>\n",
              "<style scoped>\n",
              "    .dataframe tbody tr th:only-of-type {\n",
              "        vertical-align: middle;\n",
              "    }\n",
              "\n",
              "    .dataframe tbody tr th {\n",
              "        vertical-align: top;\n",
              "    }\n",
              "\n",
              "    .dataframe thead th {\n",
              "        text-align: right;\n",
              "    }\n",
              "</style>\n",
              "<table border=\"1\" class=\"dataframe\">\n",
              "  <thead>\n",
              "    <tr style=\"text-align: right;\">\n",
              "      <th></th>\n",
              "      <th>S.No.</th>\n",
              "      <th>Company Name</th>\n",
              "      <th>Ticker</th>\n",
              "    </tr>\n",
              "  </thead>\n",
              "  <tbody>\n",
              "    <tr>\n",
              "      <th>0</th>\n",
              "      <td>1</td>\n",
              "      <td>3I GROUP PLC</td>\n",
              "      <td>III</td>\n",
              "    </tr>\n",
              "    <tr>\n",
              "      <th>1</th>\n",
              "      <td>2</td>\n",
              "      <td>ADMIRAL GROUP PLC</td>\n",
              "      <td>ADM</td>\n",
              "    </tr>\n",
              "    <tr>\n",
              "      <th>2</th>\n",
              "      <td>3</td>\n",
              "      <td>ANGLO AMERICAN PLC</td>\n",
              "      <td>AAL</td>\n",
              "    </tr>\n",
              "    <tr>\n",
              "      <th>3</th>\n",
              "      <td>4</td>\n",
              "      <td>ANTOFAGASTA PLC</td>\n",
              "      <td>ANTO</td>\n",
              "    </tr>\n",
              "    <tr>\n",
              "      <th>4</th>\n",
              "      <td>5</td>\n",
              "      <td>ASHTEAD GROUP PLC</td>\n",
              "      <td>AHT</td>\n",
              "    </tr>\n",
              "  </tbody>\n",
              "</table>\n",
              "</div>\n",
              "      <button class=\"colab-df-convert\" onclick=\"convertToInteractive('df-a8ab561d-1c77-46a5-8e6b-bfaf00dfea65')\"\n",
              "              title=\"Convert this dataframe to an interactive table.\"\n",
              "              style=\"display:none;\">\n",
              "        \n",
              "  <svg xmlns=\"http://www.w3.org/2000/svg\" height=\"24px\"viewBox=\"0 0 24 24\"\n",
              "       width=\"24px\">\n",
              "    <path d=\"M0 0h24v24H0V0z\" fill=\"none\"/>\n",
              "    <path d=\"M18.56 5.44l.94 2.06.94-2.06 2.06-.94-2.06-.94-.94-2.06-.94 2.06-2.06.94zm-11 1L8.5 8.5l.94-2.06 2.06-.94-2.06-.94L8.5 2.5l-.94 2.06-2.06.94zm10 10l.94 2.06.94-2.06 2.06-.94-2.06-.94-.94-2.06-.94 2.06-2.06.94z\"/><path d=\"M17.41 7.96l-1.37-1.37c-.4-.4-.92-.59-1.43-.59-.52 0-1.04.2-1.43.59L10.3 9.45l-7.72 7.72c-.78.78-.78 2.05 0 2.83L4 21.41c.39.39.9.59 1.41.59.51 0 1.02-.2 1.41-.59l7.78-7.78 2.81-2.81c.8-.78.8-2.07 0-2.86zM5.41 20L4 18.59l7.72-7.72 1.47 1.35L5.41 20z\"/>\n",
              "  </svg>\n",
              "      </button>\n",
              "      \n",
              "  <style>\n",
              "    .colab-df-container {\n",
              "      display:flex;\n",
              "      flex-wrap:wrap;\n",
              "      gap: 12px;\n",
              "    }\n",
              "\n",
              "    .colab-df-convert {\n",
              "      background-color: #E8F0FE;\n",
              "      border: none;\n",
              "      border-radius: 50%;\n",
              "      cursor: pointer;\n",
              "      display: none;\n",
              "      fill: #1967D2;\n",
              "      height: 32px;\n",
              "      padding: 0 0 0 0;\n",
              "      width: 32px;\n",
              "    }\n",
              "\n",
              "    .colab-df-convert:hover {\n",
              "      background-color: #E2EBFA;\n",
              "      box-shadow: 0px 1px 2px rgba(60, 64, 67, 0.3), 0px 1px 3px 1px rgba(60, 64, 67, 0.15);\n",
              "      fill: #174EA6;\n",
              "    }\n",
              "\n",
              "    [theme=dark] .colab-df-convert {\n",
              "      background-color: #3B4455;\n",
              "      fill: #D2E3FC;\n",
              "    }\n",
              "\n",
              "    [theme=dark] .colab-df-convert:hover {\n",
              "      background-color: #434B5C;\n",
              "      box-shadow: 0px 1px 3px 1px rgba(0, 0, 0, 0.15);\n",
              "      filter: drop-shadow(0px 1px 2px rgba(0, 0, 0, 0.3));\n",
              "      fill: #FFFFFF;\n",
              "    }\n",
              "  </style>\n",
              "\n",
              "      <script>\n",
              "        const buttonEl =\n",
              "          document.querySelector('#df-a8ab561d-1c77-46a5-8e6b-bfaf00dfea65 button.colab-df-convert');\n",
              "        buttonEl.style.display =\n",
              "          google.colab.kernel.accessAllowed ? 'block' : 'none';\n",
              "\n",
              "        async function convertToInteractive(key) {\n",
              "          const element = document.querySelector('#df-a8ab561d-1c77-46a5-8e6b-bfaf00dfea65');\n",
              "          const dataTable =\n",
              "            await google.colab.kernel.invokeFunction('convertToInteractive',\n",
              "                                                     [key], {});\n",
              "          if (!dataTable) return;\n",
              "\n",
              "          const docLinkHtml = 'Like what you see? Visit the ' +\n",
              "            '<a target=\"_blank\" href=https://colab.research.google.com/notebooks/data_table.ipynb>data table notebook</a>'\n",
              "            + ' to learn more about interactive tables.';\n",
              "          element.innerHTML = '';\n",
              "          dataTable['output_type'] = 'display_data';\n",
              "          await google.colab.output.renderOutput(dataTable, element);\n",
              "          const docLink = document.createElement('div');\n",
              "          docLink.innerHTML = docLinkHtml;\n",
              "          element.appendChild(docLink);\n",
              "        }\n",
              "      </script>\n",
              "    </div>\n",
              "  </div>\n",
              "  "
            ]
          },
          "metadata": {},
          "execution_count": 4
        }
      ]
    },
    {
      "cell_type": "code",
      "metadata": {
        "tags": [],
        "cell_id": "00006-aedb4288-ed36-4eec-bd47-1ac4caca3ba2",
        "deepnote_to_be_reexecuted": false,
        "source_hash": "5eb727b0",
        "execution_millis": 1,
        "execution_start": 1630789620534,
        "deepnote_cell_type": "code",
        "id": "QgXjE9FVhgh-"
      },
      "source": [
        "#To allow Yahoo Finance to find the tickers, we need to modify the ticker codes in the UK, Germany, Japan and Australia dataframes.\n",
        "#UK tickers need to have '.L', Japan tickers need to have '.T', and Australia tickers need to have '.AX' added at the end.\n",
        "\n",
        "dfuk['Ticker'] = dfuk['Ticker'].astype(str) + '.L'\n",
        "dfjapan['Ticker'] = dfjapan['Ticker'].astype(str) + '.T'\n",
        "dfaus['Ticker'] = dfaus['Ticker'].astype(str) + '.AX'\n"
      ],
      "execution_count": null,
      "outputs": []
    },
    {
      "cell_type": "code",
      "metadata": {
        "tags": [],
        "cell_id": "00007-725c2e3b-c911-4f20-a3c8-9511a87fda67",
        "deepnote_to_be_reexecuted": false,
        "source_hash": "87ee311d",
        "execution_millis": 14,
        "execution_start": 1630789620535,
        "deepnote_cell_type": "code",
        "colab": {
          "base_uri": "https://localhost:8080/",
          "height": 200
        },
        "id": "r7x1w0Muhgh_",
        "outputId": "0106a68c-0a4e-4c33-c4f5-8bdef6b57609"
      },
      "source": [
        "dfuk.head()"
      ],
      "execution_count": null,
      "outputs": [
        {
          "output_type": "execute_result",
          "data": {
            "text/html": [
              "<div>\n",
              "<style scoped>\n",
              "    .dataframe tbody tr th:only-of-type {\n",
              "        vertical-align: middle;\n",
              "    }\n",
              "\n",
              "    .dataframe tbody tr th {\n",
              "        vertical-align: top;\n",
              "    }\n",
              "\n",
              "    .dataframe thead th {\n",
              "        text-align: right;\n",
              "    }\n",
              "</style>\n",
              "<table border=\"1\" class=\"dataframe\">\n",
              "  <thead>\n",
              "    <tr style=\"text-align: right;\">\n",
              "      <th></th>\n",
              "      <th>S.No.</th>\n",
              "      <th>Company Name</th>\n",
              "      <th>Ticker</th>\n",
              "    </tr>\n",
              "  </thead>\n",
              "  <tbody>\n",
              "    <tr>\n",
              "      <th>0</th>\n",
              "      <td>1</td>\n",
              "      <td>3I GROUP PLC</td>\n",
              "      <td>III.L</td>\n",
              "    </tr>\n",
              "    <tr>\n",
              "      <th>1</th>\n",
              "      <td>2</td>\n",
              "      <td>ADMIRAL GROUP PLC</td>\n",
              "      <td>ADM.L</td>\n",
              "    </tr>\n",
              "    <tr>\n",
              "      <th>2</th>\n",
              "      <td>3</td>\n",
              "      <td>ANGLO AMERICAN PLC</td>\n",
              "      <td>AAL.L</td>\n",
              "    </tr>\n",
              "    <tr>\n",
              "      <th>3</th>\n",
              "      <td>4</td>\n",
              "      <td>ANTOFAGASTA PLC</td>\n",
              "      <td>ANTO.L</td>\n",
              "    </tr>\n",
              "    <tr>\n",
              "      <th>4</th>\n",
              "      <td>5</td>\n",
              "      <td>ASHTEAD GROUP PLC</td>\n",
              "      <td>AHT.L</td>\n",
              "    </tr>\n",
              "  </tbody>\n",
              "</table>\n",
              "</div>"
            ],
            "text/plain": [
              "   S.No.        Company Name  Ticker\n",
              "0      1       3I GROUP PLC    III.L\n",
              "1      2   ADMIRAL GROUP PLC   ADM.L\n",
              "2      3  ANGLO AMERICAN PLC   AAL.L\n",
              "3      4    ANTOFAGASTA PLC   ANTO.L\n",
              "4      5  ASHTEAD GROUP PLC    AHT.L"
            ]
          },
          "metadata": {},
          "execution_count": 6
        }
      ]
    },
    {
      "cell_type": "code",
      "metadata": {
        "tags": [],
        "cell_id": "00005-add1ee25-d97c-4392-9e5f-64f1a1b4e3e8",
        "output_cleared": false,
        "source_hash": "91794f83",
        "execution_millis": 6,
        "deepnote_to_be_reexecuted": false,
        "execution_start": 1630789620578,
        "deepnote_cell_type": "code",
        "colab": {
          "base_uri": "https://localhost:8080/",
          "height": 351
        },
        "id": "eGxp7hpLhgiA",
        "outputId": "ca5f29b4-b921-405a-b08d-ebf1091a216b"
      },
      "source": [
        "dfaus.head(10) #show the first ten rows of the dfaus dataframe"
      ],
      "execution_count": null,
      "outputs": [
        {
          "output_type": "execute_result",
          "data": {
            "text/html": [
              "<div>\n",
              "<style scoped>\n",
              "    .dataframe tbody tr th:only-of-type {\n",
              "        vertical-align: middle;\n",
              "    }\n",
              "\n",
              "    .dataframe tbody tr th {\n",
              "        vertical-align: top;\n",
              "    }\n",
              "\n",
              "    .dataframe thead th {\n",
              "        text-align: right;\n",
              "    }\n",
              "</style>\n",
              "<table border=\"1\" class=\"dataframe\">\n",
              "  <thead>\n",
              "    <tr style=\"text-align: right;\">\n",
              "      <th></th>\n",
              "      <th>S.No.</th>\n",
              "      <th>Company Name</th>\n",
              "      <th>Ticker</th>\n",
              "    </tr>\n",
              "  </thead>\n",
              "  <tbody>\n",
              "    <tr>\n",
              "      <th>0</th>\n",
              "      <td>1</td>\n",
              "      <td>a2 Milk Company Ltd</td>\n",
              "      <td>A2M.AX</td>\n",
              "    </tr>\n",
              "    <tr>\n",
              "      <th>1</th>\n",
              "      <td>2</td>\n",
              "      <td>Adbri Ltd</td>\n",
              "      <td>ABC.AX</td>\n",
              "    </tr>\n",
              "    <tr>\n",
              "      <th>2</th>\n",
              "      <td>3</td>\n",
              "      <td>Abacus Property Group</td>\n",
              "      <td>ABP.AX</td>\n",
              "    </tr>\n",
              "    <tr>\n",
              "      <th>3</th>\n",
              "      <td>4</td>\n",
              "      <td>AGL Energy Ltd</td>\n",
              "      <td>AGL.AX</td>\n",
              "    </tr>\n",
              "    <tr>\n",
              "      <th>4</th>\n",
              "      <td>5</td>\n",
              "      <td>Auckland International Airport Ltd</td>\n",
              "      <td>AIA.AX</td>\n",
              "    </tr>\n",
              "    <tr>\n",
              "      <th>5</th>\n",
              "      <td>6</td>\n",
              "      <td>Ampol Ltd</td>\n",
              "      <td>ALD.AX</td>\n",
              "    </tr>\n",
              "    <tr>\n",
              "      <th>6</th>\n",
              "      <td>7</td>\n",
              "      <td>Aristocrat Leisure Ltd</td>\n",
              "      <td>ALL.AX</td>\n",
              "    </tr>\n",
              "    <tr>\n",
              "      <th>7</th>\n",
              "      <td>8</td>\n",
              "      <td>Als Ltd</td>\n",
              "      <td>ALQ.AX</td>\n",
              "    </tr>\n",
              "    <tr>\n",
              "      <th>8</th>\n",
              "      <td>9</td>\n",
              "      <td>Altium Ltd</td>\n",
              "      <td>ALU.AX</td>\n",
              "    </tr>\n",
              "    <tr>\n",
              "      <th>9</th>\n",
              "      <td>10</td>\n",
              "      <td>Atlas Arteria</td>\n",
              "      <td>ALX.AX</td>\n",
              "    </tr>\n",
              "  </tbody>\n",
              "</table>\n",
              "</div>"
            ],
            "text/plain": [
              "   S.No.                        Company Name  Ticker\n",
              "0      1                 a2 Milk Company Ltd  A2M.AX\n",
              "1      2                           Adbri Ltd  ABC.AX\n",
              "2      3               Abacus Property Group  ABP.AX\n",
              "3      4                      AGL Energy Ltd  AGL.AX\n",
              "4      5  Auckland International Airport Ltd  AIA.AX\n",
              "5      6                           Ampol Ltd  ALD.AX\n",
              "6      7              Aristocrat Leisure Ltd  ALL.AX\n",
              "7      8                             Als Ltd  ALQ.AX\n",
              "8      9                          Altium Ltd  ALU.AX\n",
              "9     10                       Atlas Arteria  ALX.AX"
            ]
          },
          "metadata": {},
          "execution_count": 7
        }
      ]
    },
    {
      "cell_type": "code",
      "metadata": {
        "tags": [],
        "cell_id": "00006-eb68508e-a1d3-413f-84e9-2148ab3eb361",
        "deepnote_to_be_reexecuted": false,
        "source_hash": "4e1c4601",
        "execution_millis": 14,
        "execution_start": 1630789620591,
        "deepnote_cell_type": "code",
        "colab": {
          "base_uri": "https://localhost:8080/",
          "height": 200
        },
        "id": "LNVnfIsWhgiA",
        "outputId": "12a07bc3-d773-49e8-b4da-db8e2d14d07f"
      },
      "source": [
        "dfjapan.head()"
      ],
      "execution_count": null,
      "outputs": [
        {
          "output_type": "execute_result",
          "data": {
            "text/html": [
              "<div>\n",
              "<style scoped>\n",
              "    .dataframe tbody tr th:only-of-type {\n",
              "        vertical-align: middle;\n",
              "    }\n",
              "\n",
              "    .dataframe tbody tr th {\n",
              "        vertical-align: top;\n",
              "    }\n",
              "\n",
              "    .dataframe thead th {\n",
              "        text-align: right;\n",
              "    }\n",
              "</style>\n",
              "<table border=\"1\" class=\"dataframe\">\n",
              "  <thead>\n",
              "    <tr style=\"text-align: right;\">\n",
              "      <th></th>\n",
              "      <th>S.No.</th>\n",
              "      <th>Company Name</th>\n",
              "      <th>Ticker</th>\n",
              "      <th>Sector</th>\n",
              "    </tr>\n",
              "  </thead>\n",
              "  <tbody>\n",
              "    <tr>\n",
              "      <th>0</th>\n",
              "      <td>1</td>\n",
              "      <td>ADVANTEST CORP</td>\n",
              "      <td>6857.T</td>\n",
              "      <td>Electric Appliances</td>\n",
              "    </tr>\n",
              "    <tr>\n",
              "      <th>1</th>\n",
              "      <td>2</td>\n",
              "      <td>AEON LTD</td>\n",
              "      <td>8267.T</td>\n",
              "      <td>Retail Trade</td>\n",
              "    </tr>\n",
              "    <tr>\n",
              "      <th>2</th>\n",
              "      <td>3</td>\n",
              "      <td>AGC INC</td>\n",
              "      <td>5201.T</td>\n",
              "      <td>Glass &amp; Ceramics Products</td>\n",
              "    </tr>\n",
              "    <tr>\n",
              "      <th>3</th>\n",
              "      <td>4</td>\n",
              "      <td>AJINOMOTO INC</td>\n",
              "      <td>2802.T</td>\n",
              "      <td>Foods</td>\n",
              "    </tr>\n",
              "    <tr>\n",
              "      <th>4</th>\n",
              "      <td>5</td>\n",
              "      <td>ALPS ALPINE LTD</td>\n",
              "      <td>6770.T</td>\n",
              "      <td>Electric Appliances</td>\n",
              "    </tr>\n",
              "  </tbody>\n",
              "</table>\n",
              "</div>"
            ],
            "text/plain": [
              "   S.No.     Company Name  Ticker                     Sector\n",
              "0      1   ADVANTEST CORP  6857.T        Electric Appliances\n",
              "1      2         AEON LTD  8267.T               Retail Trade\n",
              "2      3          AGC INC  5201.T  Glass & Ceramics Products\n",
              "3      4    AJINOMOTO INC  2802.T                      Foods\n",
              "4      5  ALPS ALPINE LTD  6770.T        Electric Appliances"
            ]
          },
          "metadata": {},
          "execution_count": 8
        }
      ]
    },
    {
      "cell_type": "code",
      "metadata": {
        "tags": [],
        "cell_id": "00007-b54fabab-e7d5-484c-98ac-53bbbd6a2b02",
        "deepnote_to_be_reexecuted": false,
        "source_hash": "a171deeb",
        "execution_millis": 6049125387,
        "execution_start": 1630789620646,
        "deepnote_cell_type": "code",
        "id": "vGfyflK7hgiB"
      },
      "source": [
        "dfjapan = dfjapan.drop('Sector',1) # drop the Sector column as it isn't there for the other country stock lists."
      ],
      "execution_count": null,
      "outputs": []
    },
    {
      "cell_type": "markdown",
      "metadata": {
        "tags": [],
        "cell_id": "00021-8570f28c-2620-4df5-9f81-188054107d4c",
        "deepnote_cell_type": "markdown",
        "id": "BjML3FT3hgiC"
      },
      "source": [
        "## Environment, Social and Governance Scores from Sustainalytics\n",
        "### The following is taken from Yahoo! Finance. Bold attributed to Shantala Mukherjee\n",
        "\"Sustainalytics’ ESG risk ratings assess the degree to which a company’s enterprise business value is at risk driven by environmental, social and governance issues. The rating employs a two-dimensional framework that combines an assessment of a company’s exposure to industry-specific material ESG issues with an assessment of how well the company is managing those issues. The final ESG risk rating scores are a measure of **unmanaged risk on an absolute scale of 0-100, with a lower score signalling less unmanaged ESG risk**.\""
      ]
    },
    {
      "cell_type": "markdown",
      "metadata": {
        "tags": [],
        "cell_id": "00022-ed380ab6-e6f7-4659-a982-52c4fd75522f",
        "deepnote_cell_type": "markdown",
        "id": "2OxXNnarhgiD"
      },
      "source": [
        "## Controversy Level from Sustainalytics\n",
        "### The following is taken from Yahoo! Finance. Bold attributed to Shantala Mukherjee.\n",
        "\"Sustainalytics’ controversies research identifies companies involved in incidents and events that may negatively affect stakeholders, the environment or the company’s operations. Controversies are rated on a scale from one to five, with **five denoting the most serious controversies with the largest potential impact.**\""
      ]
    },
    {
      "cell_type": "code",
      "metadata": {
        "tags": [],
        "cell_id": "00020-be84d2d8-8d8e-4306-8236-1cd8bc835480",
        "output_cleared": false,
        "source_hash": "e94b600a",
        "execution_millis": 2,
        "deepnote_to_be_reexecuted": false,
        "execution_start": 1630789622807,
        "deepnote_cell_type": "code",
        "id": "ngf3lKGBhgiF"
      },
      "source": [
        "#We will define functions to obtain the environmental, social, governance and total ESG scores of a stock from its ticker\n",
        "\n",
        "def env(ticker):\n",
        "    if yf.Ticker(ticker).sustainability is not None:\n",
        "        return yf.Ticker(ticker).sustainability.loc['environmentScore','Value']\n",
        "    else:\n",
        "        return np.NaN\n",
        "\n",
        "def social(ticker):\n",
        "    if yf.Ticker(ticker).sustainability is not None:\n",
        "        return yf.Ticker(ticker).sustainability.loc['socialScore','Value']\n",
        "    else:\n",
        "        return np.NaN\n",
        "\n",
        "def gov(ticker):\n",
        "    if yf.Ticker(ticker).sustainability is not None:\n",
        "        return yf.Ticker(ticker).sustainability.loc['governanceScore','Value']\n",
        "    else:\n",
        "        return np.NaN\n",
        "\n",
        "def total(ticker):\n",
        "    if yf.Ticker(ticker).sustainability is not None:\n",
        "        return yf.Ticker(ticker).sustainability.loc['totalEsg','Value']\n",
        "    else:\n",
        "        return np.NaN\n",
        "\n",
        "def percentile(ticker):\n",
        "    if yf.Ticker(ticker).sustainability is not None:\n",
        "        return yf.Ticker(ticker).sustainability.loc['percentile', 'Value']\n",
        "    else:\n",
        "        return np.Nan\n",
        "\n",
        "def contro(ticker):\n",
        "    if yf.Ticker(ticker).sustainability is not None:\n",
        "        return yf.Ticker(ticker).sustainability.loc['highestControversy','Value']\n",
        "    else:\n",
        "        return np.NaN"
      ],
      "execution_count": null,
      "outputs": []
    },
    {
      "cell_type": "code",
      "metadata": {
        "tags": [],
        "cell_id": "00015-884dc082-1907-455e-8a47-802427048dcb",
        "deepnote_to_be_reexecuted": false,
        "source_hash": "5d0888cc",
        "execution_millis": 1,
        "execution_start": 1630789622858,
        "deepnote_cell_type": "code",
        "id": "EoBnz_WXhgiH"
      },
      "source": [
        "# We will define a function that combines these scores into a dataframe\n",
        "\n",
        "def scores(ticker):\n",
        "    return pd.DataFrame([[ticker,yf.Ticker(ticker).info['longName'],env(ticker),social(ticker),gov(ticker),total(ticker),percentile(ticker),contro(ticker)]],columns=['Ticker','Name','Environmental','Social','Governance','Total ESG','Percentile','Controversy Level'])"
      ],
      "execution_count": null,
      "outputs": []
    },
    {
      "cell_type": "markdown",
      "metadata": {
        "tags": [],
        "cell_id": "00020-2ecc8afd-deaa-4181-ac31-d6da3472d53a",
        "deepnote_cell_type": "markdown",
        "id": "-PBFJlBGhgiH"
      },
      "source": [
        "## Choose the country to see the list of companies and tickers in the index"
      ]
    },
    {
      "cell_type": "code",
      "metadata": {
        "deepnote_variable_name": "Country",
        "deepnote_variable_options": [
          "UK",
          "USA",
          "Japan",
          "Australia"
        ],
        "deepnote_variable_value": "Japan",
        "cell_id": "00020-2afe8c7d-5e11-49f9-8700-22153a2fc928",
        "deepnote_to_be_reexecuted": false,
        "source_hash": "80002ac7",
        "execution_millis": 0,
        "execution_start": 1630789622859,
        "deepnote_variable_custom_options": [
          "UK",
          "USA",
          "Japan",
          "Australia"
        ],
        "deepnote_variable_selected_variable": "",
        "deepnote_variable_select_type": "from-options",
        "deepnote_cell_type": "input-select",
        "id": "9HfZ-br-hgiI"
      },
      "source": [
        "#Country = 'Japan'\n",
        "Country = 'UK'"
      ],
      "execution_count": null,
      "outputs": []
    },
    {
      "cell_type": "code",
      "metadata": {
        "tags": [],
        "cell_id": "00019-27b21ba8-8c6a-4096-8d58-365553ec0027",
        "deepnote_to_be_reexecuted": false,
        "source_hash": "74caca7f",
        "execution_millis": 18,
        "is_code_hidden": false,
        "execution_start": 1630789622890,
        "deepnote_cell_type": "code",
        "id": "6SQNlLiIhgiI"
      },
      "source": [
        "# Choose the appropriate dataframe of companies and tickers according to the country chose above\n",
        "\n",
        "if Country == 'UK':\n",
        "    display(HTML(dfuk.to_html()))\n",
        "elif Country == 'USA':\n",
        "    display(HTML(dfusa.to_html()))\n",
        "elif Country == 'Japan':\n",
        "    display(HTML(dfjapan.to_html()))\n",
        "else:\n",
        "    display(HTML(dfaus.to_html()))\n"
      ],
      "execution_count": null,
      "outputs": []
    },
    {
      "cell_type": "markdown",
      "metadata": {
        "tags": [],
        "cell_id": "00019-2dd7bbb9-a260-4f05-8b00-b209799293d6",
        "deepnote_cell_type": "markdown",
        "id": "wtBlyJZyhgiI"
      },
      "source": [
        "## Type in a ticker from any of the lists above\n",
        "(Please note that the input cell is free text, so you can type in **any** ticker from **any** global index on Yahoo! Finance. The above country stock lists are for ease of reference to look up the exact ticker.)"
      ]
    },
    {
      "cell_type": "code",
      "metadata": {
        "deepnote_variable_name": "Ticker_code",
        "deepnote_variable_value": "6758.T",
        "cell_id": "00018-7d1c26ed-2413-40ef-8504-edcac3797279",
        "deepnote_to_be_reexecuted": false,
        "source_hash": "1ea68e53",
        "execution_millis": 1,
        "execution_start": 1630789622900,
        "deepnote_cell_type": "input-text",
        "id": "FHPjfOBFhgiJ"
      },
      "source": [
        "#Ticker_code = '6758.T'\n",
        "#Ticker_code = 'WPP.L'\n",
        "Ticker_code = 'VOD.L'"
      ],
      "execution_count": null,
      "outputs": []
    },
    {
      "cell_type": "markdown",
      "metadata": {
        "tags": [],
        "cell_id": "00020-443527f7-9f2d-4837-8e9a-cf8bf1923c54",
        "deepnote_cell_type": "markdown",
        "id": "cITKq3f7hgiJ"
      },
      "source": [
        "### Run the following cell to obtain the ESG scores -- it will take several seconds to run!"
      ]
    },
    {
      "cell_type": "code",
      "metadata": {
        "tags": [],
        "cell_id": "00019-3bd159dd-7780-44e1-9d2d-0e3ba2236801",
        "deepnote_to_be_reexecuted": false,
        "source_hash": "3bb6c2b9",
        "execution_millis": 26011,
        "output_cleared": false,
        "execution_start": 1630789622946,
        "deepnote_cell_type": "code",
        "colab": {
          "base_uri": "https://localhost:8080/",
          "height": 78
        },
        "id": "ax56PupGhgiJ",
        "outputId": "e31aecd6-2663-4795-f61f-95833b1d8894"
      },
      "source": [
        "# We will display the dataframe containing the ESG scores\n",
        "\n",
        "tkr = Ticker_code\n",
        "df = scores(tkr)\n",
        "display(HTML(df.to_html()))\n"
      ],
      "execution_count": null,
      "outputs": [
        {
          "output_type": "display_data",
          "data": {
            "text/html": [
              "<table border=\"1\" class=\"dataframe\">\n",
              "  <thead>\n",
              "    <tr style=\"text-align: right;\">\n",
              "      <th></th>\n",
              "      <th>Ticker</th>\n",
              "      <th>Name</th>\n",
              "      <th>Environmental</th>\n",
              "      <th>Social</th>\n",
              "      <th>Governance</th>\n",
              "      <th>Total ESG</th>\n",
              "      <th>Percentile</th>\n",
              "      <th>Controversy Level</th>\n",
              "    </tr>\n",
              "  </thead>\n",
              "  <tbody>\n",
              "    <tr>\n",
              "      <th>0</th>\n",
              "      <td>VOD.L</td>\n",
              "      <td>Vodafone Group Plc</td>\n",
              "      <td>2.72</td>\n",
              "      <td>7.81</td>\n",
              "      <td>6.43</td>\n",
              "      <td>16.95</td>\n",
              "      <td>13.77</td>\n",
              "      <td>3</td>\n",
              "    </tr>\n",
              "  </tbody>\n",
              "</table>"
            ],
            "text/plain": [
              "<IPython.core.display.HTML object>"
            ]
          },
          "metadata": {}
        }
      ]
    },
    {
      "cell_type": "markdown",
      "metadata": {
        "tags": [],
        "cell_id": "00021-98c90904-1727-4d55-a920-b8113a32aa13",
        "deepnote_cell_type": "markdown",
        "id": "a6X6gw4MhgiK"
      },
      "source": [
        "## Visualise these scores using the Altair statistical visualization library for Python\n",
        "\n",
        "Run the cell below to see visualisations for these ESG scores. If you do not see the charts, clear the cell output and run the cell again."
      ]
    },
    {
      "cell_type": "code",
      "metadata": {
        "tags": [],
        "cell_id": "00025-b5b750a5-a8ad-494c-98d9-f7c567d32a46",
        "deepnote_to_be_reexecuted": false,
        "source_hash": "f2de45d6",
        "execution_millis": 105,
        "output_cleared": false,
        "execution_start": 1630789648970,
        "deepnote_cell_type": "code",
        "id": "SVgnnCJMhgiK",
        "colab": {
          "base_uri": "https://localhost:8080/",
          "height": 436
        },
        "outputId": "70a14c9b-1984-4987-f565-ee2df25bab9f"
      },
      "source": [
        "chart1 = alt.Chart(df).mark_bar().encode(\n",
        "    alt.Y('Ticker:N'),\n",
        "    alt.X('Total ESG:Q',\n",
        "        scale=alt.Scale(domain=(0,100))\n",
        "    ),\n",
        "    color=alt.Color('Total ESG:Q', scale=alt.Scale(domain = (0,100), scheme='yellowgreenblue')),\n",
        "    tooltip = [alt.Tooltip('Name:N'),\n",
        "               alt.Tooltip('Total ESG:Q')\n",
        "              ]\n",
        ").interactive()\n",
        "\n",
        "chart2 = alt.Chart(df).mark_bar().encode(\n",
        "    alt.X('Percentile:Q',\n",
        "        scale=alt.Scale(domain=(0,100))\n",
        "    ),\n",
        "    alt.Y('Ticker:N'),\n",
        "    color=alt.Color('Percentile:Q', scale=alt.Scale(domain = (0,100), scheme='yellowgreenblue')),\n",
        "    tooltip = [alt.Tooltip('Name:N'),\n",
        "               alt.Tooltip('Percentile:Q')\n",
        "              ]\n",
        ").interactive()\n",
        "\n",
        "chart3 = alt.Chart(df).mark_bar().encode(\n",
        "    alt.Y('Ticker:N'),\n",
        "    alt.X('Controversy Level:Q',\n",
        "        scale=alt.Scale(domain=(0,5))\n",
        "    ),\n",
        "    color=alt.Color('Controversy Level:Q', scale=alt.Scale(domain = (0,5), scheme='yellowgreenblue')),\n",
        "    tooltip = [alt.Tooltip('Name:N'),\n",
        "               alt.Tooltip('Controversy Level:Q')\n",
        "              ]\n",
        ").interactive()\n",
        "\n",
        "dfesg = df[['Ticker', 'Name','Environmental', 'Social', 'Governance']].copy()\n",
        "\n",
        "chart4 = alt.Chart(dfesg,title=dfesg['Name'][0]).transform_fold(\n",
        "    ['Environmental', 'Social', 'Governance'],\n",
        "    as_=['Attribute', 'Scores']).mark_bar().encode(\n",
        "    alt.Y('Ticker:N'),\n",
        "    alt.X('Scores:Q'),\n",
        "    color='Attribute:N',\n",
        "    tooltip = [alt.Tooltip('Name:N'),\n",
        "               alt.Tooltip('Attribute:N'),\n",
        "               alt.Tooltip('Scores:Q')\n",
        "              ]\n",
        "    ).interactive()\n",
        "\n",
        "alt.vconcat(chart4, chart1, chart2, chart3)"
      ],
      "execution_count": null,
      "outputs": [
        {
          "output_type": "execute_result",
          "data": {
            "text/plain": [
              "alt.VConcatChart(...)"
            ],
            "text/html": [
              "\n",
              "<div id=\"altair-viz-1ba7c45730244ce9b93b87d67ef3ce0a\"></div>\n",
              "<script type=\"text/javascript\">\n",
              "  (function(spec, embedOpt){\n",
              "    let outputDiv = document.currentScript.previousElementSibling;\n",
              "    if (outputDiv.id !== \"altair-viz-1ba7c45730244ce9b93b87d67ef3ce0a\") {\n",
              "      outputDiv = document.getElementById(\"altair-viz-1ba7c45730244ce9b93b87d67ef3ce0a\");\n",
              "    }\n",
              "    const paths = {\n",
              "      \"vega\": \"https://cdn.jsdelivr.net/npm//vega@5?noext\",\n",
              "      \"vega-lib\": \"https://cdn.jsdelivr.net/npm//vega-lib?noext\",\n",
              "      \"vega-lite\": \"https://cdn.jsdelivr.net/npm//vega-lite@4.8.1?noext\",\n",
              "      \"vega-embed\": \"https://cdn.jsdelivr.net/npm//vega-embed@6?noext\",\n",
              "    };\n",
              "\n",
              "    function loadScript(lib) {\n",
              "      return new Promise(function(resolve, reject) {\n",
              "        var s = document.createElement('script');\n",
              "        s.src = paths[lib];\n",
              "        s.async = true;\n",
              "        s.onload = () => resolve(paths[lib]);\n",
              "        s.onerror = () => reject(`Error loading script: ${paths[lib]}`);\n",
              "        document.getElementsByTagName(\"head\")[0].appendChild(s);\n",
              "      });\n",
              "    }\n",
              "\n",
              "    function showError(err) {\n",
              "      outputDiv.innerHTML = `<div class=\"error\" style=\"color:red;\">${err}</div>`;\n",
              "      throw err;\n",
              "    }\n",
              "\n",
              "    function displayChart(vegaEmbed) {\n",
              "      vegaEmbed(outputDiv, spec, embedOpt)\n",
              "        .catch(err => showError(`Javascript Error: ${err.message}<br>This usually means there's a typo in your chart specification. See the javascript console for the full traceback.`));\n",
              "    }\n",
              "\n",
              "    if(typeof define === \"function\" && define.amd) {\n",
              "      requirejs.config({paths});\n",
              "      require([\"vega-embed\"], displayChart, err => showError(`Error loading script: ${err.message}`));\n",
              "    } else if (typeof vegaEmbed === \"function\") {\n",
              "      displayChart(vegaEmbed);\n",
              "    } else {\n",
              "      loadScript(\"vega\")\n",
              "        .then(() => loadScript(\"vega-lite\"))\n",
              "        .then(() => loadScript(\"vega-embed\"))\n",
              "        .catch(showError)\n",
              "        .then(() => displayChart(vegaEmbed));\n",
              "    }\n",
              "  })({\"config\": {\"view\": {\"continuousWidth\": 400, \"continuousHeight\": 300}}, \"vconcat\": [{\"data\": {\"name\": \"data-12641957cba4ca1b71d5cfa62f663c82\"}, \"mark\": \"bar\", \"encoding\": {\"color\": {\"type\": \"nominal\", \"field\": \"Attribute\"}, \"tooltip\": [{\"type\": \"nominal\", \"field\": \"Name\"}, {\"type\": \"nominal\", \"field\": \"Attribute\"}, {\"type\": \"quantitative\", \"field\": \"Scores\"}], \"x\": {\"type\": \"quantitative\", \"field\": \"Scores\"}, \"y\": {\"type\": \"nominal\", \"field\": \"Ticker\"}}, \"selection\": {\"selector020\": {\"type\": \"interval\", \"bind\": \"scales\", \"encodings\": [\"x\", \"y\"]}}, \"title\": \"Vodafone Group Plc\", \"transform\": [{\"fold\": [\"Environmental\", \"Social\", \"Governance\"], \"as\": [\"Attribute\", \"Scores\"]}]}, {\"data\": {\"name\": \"data-4fd8ff6cb318b579c6062afae49cf79c\"}, \"mark\": \"bar\", \"encoding\": {\"color\": {\"type\": \"quantitative\", \"field\": \"Total ESG\", \"scale\": {\"domain\": [0, 100], \"scheme\": \"yellowgreenblue\"}}, \"tooltip\": [{\"type\": \"nominal\", \"field\": \"Name\"}, {\"type\": \"quantitative\", \"field\": \"Total ESG\"}], \"x\": {\"type\": \"quantitative\", \"field\": \"Total ESG\", \"scale\": {\"domain\": [0, 100]}}, \"y\": {\"type\": \"nominal\", \"field\": \"Ticker\"}}, \"selection\": {\"selector017\": {\"type\": \"interval\", \"bind\": \"scales\", \"encodings\": [\"x\", \"y\"]}}}, {\"data\": {\"name\": \"data-4fd8ff6cb318b579c6062afae49cf79c\"}, \"mark\": \"bar\", \"encoding\": {\"color\": {\"type\": \"quantitative\", \"field\": \"Percentile\", \"scale\": {\"domain\": [0, 100], \"scheme\": \"yellowgreenblue\"}}, \"tooltip\": [{\"type\": \"nominal\", \"field\": \"Name\"}, {\"type\": \"quantitative\", \"field\": \"Percentile\"}], \"x\": {\"type\": \"quantitative\", \"field\": \"Percentile\", \"scale\": {\"domain\": [0, 100]}}, \"y\": {\"type\": \"nominal\", \"field\": \"Ticker\"}}, \"selection\": {\"selector018\": {\"type\": \"interval\", \"bind\": \"scales\", \"encodings\": [\"x\", \"y\"]}}}, {\"data\": {\"name\": \"data-4fd8ff6cb318b579c6062afae49cf79c\"}, \"mark\": \"bar\", \"encoding\": {\"color\": {\"type\": \"quantitative\", \"field\": \"Controversy Level\", \"scale\": {\"domain\": [0, 5], \"scheme\": \"yellowgreenblue\"}}, \"tooltip\": [{\"type\": \"nominal\", \"field\": \"Name\"}, {\"type\": \"quantitative\", \"field\": \"Controversy Level\"}], \"x\": {\"type\": \"quantitative\", \"field\": \"Controversy Level\", \"scale\": {\"domain\": [0, 5]}}, \"y\": {\"type\": \"nominal\", \"field\": \"Ticker\"}}, \"selection\": {\"selector019\": {\"type\": \"interval\", \"bind\": \"scales\", \"encodings\": [\"x\", \"y\"]}}}], \"$schema\": \"https://vega.github.io/schema/vega-lite/v4.8.1.json\", \"datasets\": {\"data-12641957cba4ca1b71d5cfa62f663c82\": [{\"Ticker\": \"VOD.L\", \"Name\": \"Vodafone Group Plc\", \"Environmental\": 2.72, \"Social\": 7.81, \"Governance\": 6.43}], \"data-4fd8ff6cb318b579c6062afae49cf79c\": [{\"Ticker\": \"VOD.L\", \"Name\": \"Vodafone Group Plc\", \"Environmental\": 2.72, \"Social\": 7.81, \"Governance\": 6.43, \"Total ESG\": 16.95, \"Percentile\": 13.77, \"Controversy Level\": 3}]}}, {\"mode\": \"vega-lite\"});\n",
              "</script>"
            ]
          },
          "metadata": {},
          "execution_count": 20
        }
      ]
    }
  ]
}